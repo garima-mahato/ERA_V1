{
  "cells": [
    {
      "cell_type": "code",
      "execution_count": 1,
      "metadata": {
        "colab": {
          "base_uri": "https://localhost:8080/"
        },
        "id": "SzPNeZnddLM8",
        "outputId": "567cb804-1f37-4ce4-eff8-c75c25dea197"
      },
      "outputs": [
        {
          "name": "stdout",
          "output_type": "stream",
          "text": [
            "Cloning into 'ERA_V1'...\n",
            "remote: Enumerating objects: 21, done.\u001b[K\n",
            "remote: Counting objects: 100% (21/21), done.\u001b[K\n",
            "remote: Compressing objects: 100% (13/13), done.\u001b[K\n",
            "remote: Total 21 (delta 7), reused 12 (delta 4), pack-reused 0\u001b[K\n",
            "Unpacking objects: 100% (21/21), 4.91 KiB | 1.23 MiB/s, done.\n"
          ]
        }
      ],
      "source": [
        "!git clone https://github.com/garima-mahato/ERA_V1.git"
      ]
    },
    {
      "attachments": {},
      "cell_type": "markdown",
      "metadata": {
        "id": "n09vaEgP6pLj"
      },
      "source": [
        "CODE BLOCK: 1"
      ]
    },
    {
      "cell_type": "code",
      "execution_count": 7,
      "metadata": {
        "id": "6PlbomWY3RSq"
      },
      "outputs": [],
      "source": [
        "from ERA_V1.Session7_InDepthCodingPractice import *"
      ]
    },
    {
      "attachments": {},
      "cell_type": "markdown",
      "metadata": {
        "id": "VjBHHQVA6sXt"
      },
      "source": [
        "CODE BLOCK: 2"
      ]
    },
    {
      "cell_type": "code",
      "execution_count": 12,
      "metadata": {
        "colab": {
          "base_uri": "https://localhost:8080/"
        },
        "id": "94BxVVBP3WwS",
        "outputId": "4936cd0a-4d51-472a-a53c-aa9d0fd5d399"
      },
      "outputs": [
        {
          "name": "stdout",
          "output_type": "stream",
          "text": [
            "CUDA Available? True\n"
          ]
        }
      ],
      "source": [
        "# # CUDA?\n",
        "cuda = torch.cuda.is_available()\n",
        "print(\"CUDA Available?\", cuda)\n",
        "\n",
        "device = set_device()"
      ]
    },
    {
      "attachments": {},
      "cell_type": "markdown",
      "metadata": {
        "id": "3UHq59Sw6tmW"
      },
      "source": [
        "CODE BLOCK: 3"
      ]
    },
    {
      "cell_type": "code",
      "execution_count": 13,
      "metadata": {
        "id": "KpshQ2Ug38m2"
      },
      "outputs": [],
      "source": [
        "# Train data transformations\n",
        "train_transforms = transforms.Compose([\n",
        "    transforms.RandomApply([transforms.CenterCrop(22), ], p=0.1),\n",
        "    transforms.Resize((28, 28)),\n",
        "    transforms.RandomRotation((-15., 15.), fill=0),\n",
        "    transforms.ToTensor(),\n",
        "    transforms.Normalize((0.1307,), (0.3081,)),\n",
        "    ])\n",
        "\n",
        "# Test data transformations\n",
        "test_transforms = transforms.Compose([\n",
        "    transforms.ToTensor(),\n",
        "    transforms.Normalize((0.1307,), (0.3081,))\n",
        "    ])"
      ]
    },
    {
      "attachments": {},
      "cell_type": "markdown",
      "metadata": {
        "id": "zQm17pM46zHL"
      },
      "source": [
        "CODE BLOCK: 4"
      ]
    },
    {
      "cell_type": "code",
      "execution_count": 14,
      "metadata": {
        "id": "JB79ZYW13-AO"
      },
      "outputs": [],
      "source": [
        "train_data = datasets.MNIST('../data', train=True, download=True, transform=train_transforms)\n",
        "test_data = datasets.MNIST('../data', train=False, download=True, transform=test_transforms)"
      ]
    },
    {
      "attachments": {},
      "cell_type": "markdown",
      "metadata": {
        "id": "_PKSHxto6116"
      },
      "source": [
        "CODE BLOCK: 5"
      ]
    },
    {
      "cell_type": "code",
      "execution_count": 15,
      "metadata": {
        "id": "avCKK1uL4A68"
      },
      "outputs": [],
      "source": [
        "# set seed\n",
        "torch.manual_seed(1)\n",
        "\n",
        "batch_size = 512\n",
        "\n",
        "kwargs = {'num_workers': 1, 'pin_memory': True} if cuda else {}\n",
        "kwargs.update({'batch_size': batch_size, 'shuffle': True})\n",
        "\n",
        "test_loader = torch.utils.data.DataLoader(test_data, **kwargs)\n",
        "train_loader = torch.utils.data.DataLoader(train_data, **kwargs)"
      ]
    },
    {
      "attachments": {},
      "cell_type": "markdown",
      "metadata": {
        "id": "Hi_0rfq56-29"
      },
      "source": [
        "CODE BLOCK: 6"
      ]
    },
    {
      "cell_type": "code",
      "execution_count": 16,
      "metadata": {
        "colab": {
          "base_uri": "https://localhost:8080/",
          "height": 463
        },
        "id": "Hx7QkLcw4Epc",
        "outputId": "0a316374-2f5b-49a4-b775-f0ec94028692"
      },
      "outputs": [
        {
          "data": {
            "image/png": "[encoded data removed]",
            "text/plain": [
              "<Figure size 640x480 with 12 Axes>"
            ]
          },
          "metadata": {},
          "output_type": "display_data"
        }
      ],
      "source": [
        "\n",
        "\n",
        "view_data(train_loader)"
      ]
    },
    {
      "attachments": {},
      "cell_type": "markdown",
      "metadata": {
        "id": "89gd4_s7AO2y"
      },
      "source": [
        "CODE BLOCK: 8"
      ]
    },
    {
      "cell_type": "code",
      "execution_count": 18,
      "metadata": {
        "id": "7du4zM474LvT"
      },
      "outputs": [],
      "source": [
        "# Data to plot accuracy and loss graphs\n",
        "train_losses = []\n",
        "test_losses = []\n",
        "train_acc = []\n",
        "test_acc = []\n",
        "\n",
        "test_incorrect_pred = {'images': [], 'ground_truths': [], 'predicted_vals': []}"
      ]
    },
    {
      "attachments": {},
      "cell_type": "markdown",
      "metadata": {
        "id": "09GYKBGRAT5M"
      },
      "source": [
        "CODE BLOCK: 9"
      ]
    },
    {
      "cell_type": "code",
      "execution_count": 20,
      "metadata": {
        "colab": {
          "base_uri": "https://localhost:8080/"
        },
        "id": "Owqiet9M4TV7",
        "outputId": "366dadff-2401-48ec-e937-7f2212719bf7"
      },
      "outputs": [
        {
          "name": "stdout",
          "output_type": "stream",
          "text": [
            "Adjusting learning rate of group 0 to 1.0000e-02.\n",
            "Epoch 1\n"
          ]
        },
        {
          "name": "stderr",
          "output_type": "stream",
          "text": [
            "Train: Loss=0.4035 Batch_id=117 Accuracy=43.25: 100%|██████████| 118/118 [00:34<00:00,  3.40it/s]\n"
          ]
        },
        {
          "name": "stdout",
          "output_type": "stream",
          "text": [
            "Test set: Average loss: 0.2886, Accuracy: 9154/10000 (91.54%)\n",
            "\n",
            "Adjusting learning rate of group 0 to 1.0000e-02.\n",
            "Epoch 2\n"
          ]
        },
        {
          "name": "stderr",
          "output_type": "stream",
          "text": [
            "Train: Loss=0.1115 Batch_id=117 Accuracy=92.75: 100%|██████████| 118/118 [00:27<00:00,  4.33it/s]\n"
          ]
        },
        {
          "name": "stdout",
          "output_type": "stream",
          "text": [
            "Test set: Average loss: 0.1006, Accuracy: 9697/10000 (96.97%)\n",
            "\n",
            "Adjusting learning rate of group 0 to 1.0000e-02.\n",
            "Epoch 3\n"
          ]
        },
        {
          "name": "stderr",
          "output_type": "stream",
          "text": [
            "Train: Loss=0.0739 Batch_id=117 Accuracy=95.98: 100%|██████████| 118/118 [00:27<00:00,  4.36it/s]\n"
          ]
        },
        {
          "name": "stdout",
          "output_type": "stream",
          "text": [
            "Test set: Average loss: 0.0644, Accuracy: 9814/10000 (98.14%)\n",
            "\n",
            "Adjusting learning rate of group 0 to 1.0000e-02.\n",
            "Epoch 4\n"
          ]
        },
        {
          "name": "stderr",
          "output_type": "stream",
          "text": [
            "Train: Loss=0.1233 Batch_id=117 Accuracy=96.94: 100%|██████████| 118/118 [00:27<00:00,  4.33it/s]\n"
          ]
        },
        {
          "name": "stdout",
          "output_type": "stream",
          "text": [
            "Test set: Average loss: 0.0518, Accuracy: 9836/10000 (98.36%)\n",
            "\n",
            "Adjusting learning rate of group 0 to 1.0000e-02.\n",
            "Epoch 5\n"
          ]
        },
        {
          "name": "stderr",
          "output_type": "stream",
          "text": [
            "Train: Loss=0.0437 Batch_id=117 Accuracy=97.28: 100%|██████████| 118/118 [00:27<00:00,  4.25it/s]\n"
          ]
        },
        {
          "name": "stdout",
          "output_type": "stream",
          "text": [
            "Test set: Average loss: 0.0442, Accuracy: 9850/10000 (98.50%)\n",
            "\n",
            "Adjusting learning rate of group 0 to 1.0000e-02.\n",
            "Epoch 6\n"
          ]
        },
        {
          "name": "stderr",
          "output_type": "stream",
          "text": [
            "Train: Loss=0.0982 Batch_id=117 Accuracy=97.68: 100%|██████████| 118/118 [00:27<00:00,  4.34it/s]\n"
          ]
        },
        {
          "name": "stdout",
          "output_type": "stream",
          "text": [
            "Test set: Average loss: 0.0438, Accuracy: 9849/10000 (98.49%)\n",
            "\n",
            "Adjusting learning rate of group 0 to 1.0000e-02.\n",
            "Epoch 7\n"
          ]
        },
        {
          "name": "stderr",
          "output_type": "stream",
          "text": [
            "Train: Loss=0.0239 Batch_id=117 Accuracy=98.05: 100%|██████████| 118/118 [00:27<00:00,  4.33it/s]\n"
          ]
        },
        {
          "name": "stdout",
          "output_type": "stream",
          "text": [
            "Test set: Average loss: 0.0346, Accuracy: 9890/10000 (98.90%)\n",
            "\n",
            "Adjusting learning rate of group 0 to 1.0000e-02.\n",
            "Epoch 8\n"
          ]
        },
        {
          "name": "stderr",
          "output_type": "stream",
          "text": [
            "Train: Loss=0.0843 Batch_id=117 Accuracy=98.20: 100%|██████████| 118/118 [00:27<00:00,  4.33it/s]\n"
          ]
        },
        {
          "name": "stdout",
          "output_type": "stream",
          "text": [
            "Test set: Average loss: 0.0346, Accuracy: 9886/10000 (98.86%)\n",
            "\n",
            "Adjusting learning rate of group 0 to 1.0000e-02.\n",
            "Epoch 9\n"
          ]
        },
        {
          "name": "stderr",
          "output_type": "stream",
          "text": [
            "Train: Loss=0.0354 Batch_id=117 Accuracy=98.30: 100%|██████████| 118/118 [00:27<00:00,  4.37it/s]\n"
          ]
        },
        {
          "name": "stdout",
          "output_type": "stream",
          "text": [
            "Test set: Average loss: 0.0311, Accuracy: 9901/10000 (99.01%)\n",
            "\n",
            "Adjusting learning rate of group 0 to 1.0000e-02.\n",
            "Epoch 10\n"
          ]
        },
        {
          "name": "stderr",
          "output_type": "stream",
          "text": [
            "Train: Loss=0.0389 Batch_id=117 Accuracy=98.39: 100%|██████████| 118/118 [00:27<00:00,  4.27it/s]\n"
          ]
        },
        {
          "name": "stdout",
          "output_type": "stream",
          "text": [
            "Test set: Average loss: 0.0325, Accuracy: 9895/10000 (98.95%)\n",
            "\n",
            "Adjusting learning rate of group 0 to 1.0000e-02.\n",
            "Epoch 11\n"
          ]
        },
        {
          "name": "stderr",
          "output_type": "stream",
          "text": [
            "Train: Loss=0.0608 Batch_id=117 Accuracy=98.51: 100%|██████████| 118/118 [00:27<00:00,  4.35it/s]\n"
          ]
        },
        {
          "name": "stdout",
          "output_type": "stream",
          "text": [
            "Test set: Average loss: 0.0296, Accuracy: 9899/10000 (98.99%)\n",
            "\n",
            "Adjusting learning rate of group 0 to 1.0000e-02.\n",
            "Epoch 12\n"
          ]
        },
        {
          "name": "stderr",
          "output_type": "stream",
          "text": [
            "Train: Loss=0.0337 Batch_id=117 Accuracy=98.65: 100%|██████████| 118/118 [00:27<00:00,  4.35it/s]\n"
          ]
        },
        {
          "name": "stdout",
          "output_type": "stream",
          "text": [
            "Test set: Average loss: 0.0263, Accuracy: 9915/10000 (99.15%)\n",
            "\n",
            "Adjusting learning rate of group 0 to 1.0000e-02.\n",
            "Epoch 13\n"
          ]
        },
        {
          "name": "stderr",
          "output_type": "stream",
          "text": [
            "Train: Loss=0.0673 Batch_id=117 Accuracy=98.66: 100%|██████████| 118/118 [00:27<00:00,  4.33it/s]\n"
          ]
        },
        {
          "name": "stdout",
          "output_type": "stream",
          "text": [
            "Test set: Average loss: 0.0271, Accuracy: 9911/10000 (99.11%)\n",
            "\n",
            "Adjusting learning rate of group 0 to 1.0000e-02.\n",
            "Epoch 14\n"
          ]
        },
        {
          "name": "stderr",
          "output_type": "stream",
          "text": [
            "Train: Loss=0.0157 Batch_id=117 Accuracy=98.66: 100%|██████████| 118/118 [00:27<00:00,  4.36it/s]\n"
          ]
        },
        {
          "name": "stdout",
          "output_type": "stream",
          "text": [
            "Test set: Average loss: 0.0247, Accuracy: 9912/10000 (99.12%)\n",
            "\n",
            "Adjusting learning rate of group 0 to 1.0000e-02.\n",
            "Epoch 15\n"
          ]
        },
        {
          "name": "stderr",
          "output_type": "stream",
          "text": [
            "Train: Loss=0.0438 Batch_id=117 Accuracy=98.81: 100%|██████████| 118/118 [00:27<00:00,  4.28it/s]\n"
          ]
        },
        {
          "name": "stdout",
          "output_type": "stream",
          "text": [
            "Test set: Average loss: 0.0253, Accuracy: 9920/10000 (99.20%)\n",
            "\n",
            "Adjusting learning rate of group 0 to 1.0000e-03.\n",
            "Epoch 16\n"
          ]
        },
        {
          "name": "stderr",
          "output_type": "stream",
          "text": [
            "Train: Loss=0.0872 Batch_id=117 Accuracy=99.02: 100%|██████████| 118/118 [00:26<00:00,  4.39it/s]\n"
          ]
        },
        {
          "name": "stdout",
          "output_type": "stream",
          "text": [
            "Test set: Average loss: 0.0220, Accuracy: 9927/10000 (99.27%)\n",
            "\n",
            "Adjusting learning rate of group 0 to 1.0000e-03.\n",
            "Epoch 17\n"
          ]
        },
        {
          "name": "stderr",
          "output_type": "stream",
          "text": [
            "Train: Loss=0.0199 Batch_id=117 Accuracy=99.08: 100%|██████████| 118/118 [00:26<00:00,  4.41it/s]\n"
          ]
        },
        {
          "name": "stdout",
          "output_type": "stream",
          "text": [
            "Test set: Average loss: 0.0214, Accuracy: 9925/10000 (99.25%)\n",
            "\n",
            "Adjusting learning rate of group 0 to 1.0000e-03.\n",
            "Epoch 18\n"
          ]
        },
        {
          "name": "stderr",
          "output_type": "stream",
          "text": [
            "Train: Loss=0.1040 Batch_id=117 Accuracy=99.10: 100%|██████████| 118/118 [00:27<00:00,  4.30it/s]\n"
          ]
        },
        {
          "name": "stdout",
          "output_type": "stream",
          "text": [
            "Test set: Average loss: 0.0211, Accuracy: 9924/10000 (99.24%)\n",
            "\n",
            "Adjusting learning rate of group 0 to 1.0000e-03.\n",
            "Epoch 19\n"
          ]
        },
        {
          "name": "stderr",
          "output_type": "stream",
          "text": [
            "Train: Loss=0.0311 Batch_id=117 Accuracy=99.06: 100%|██████████| 118/118 [00:26<00:00,  4.42it/s]\n"
          ]
        },
        {
          "name": "stdout",
          "output_type": "stream",
          "text": [
            "Test set: Average loss: 0.0209, Accuracy: 9926/10000 (99.26%)\n",
            "\n",
            "Adjusting learning rate of group 0 to 1.0000e-03.\n",
            "Epoch 20\n"
          ]
        },
        {
          "name": "stderr",
          "output_type": "stream",
          "text": [
            "Train: Loss=0.0400 Batch_id=117 Accuracy=99.12: 100%|██████████| 118/118 [00:27<00:00,  4.34it/s]\n"
          ]
        },
        {
          "name": "stdout",
          "output_type": "stream",
          "text": [
            "Test set: Average loss: 0.0203, Accuracy: 9930/10000 (99.30%)\n",
            "\n",
            "Adjusting learning rate of group 0 to 1.0000e-03.\n"
          ]
        }
      ],
      "source": [
        "model = Model_1().to(device)\n",
        "optimizer = optim.SGD(model.parameters(), lr=0.01, momentum=0.9)\n",
        "scheduler = optim.lr_scheduler.StepLR(optimizer, step_size=15, gamma=0.1, verbose=True)\n",
        "num_epochs = 20\n",
        "\n",
        "for epoch in range(1, num_epochs+1):\n",
        "  print(f'Epoch {epoch}')\n",
        "  train(model, device, train_loader, optimizer, train_acc, train_losses)\n",
        "  test(model, device, test_loader, test_acc, test_losses)\n",
        "  scheduler.step()"
      ]
    },
    {
      "cell_type": "code",
      "execution_count": 21,
      "metadata": {
        "colab": {
          "base_uri": "https://localhost:8080/",
          "height": 853
        },
        "id": "Wu0l7dli4eC9",
        "outputId": "39931813-b40e-488b-9279-b2f8d9778738"
      },
      "outputs": [
        {
          "data": {
            "image/png": "[encoded data removed]",
            "text/plain": [
              "<Figure size 1500x1000 with 4 Axes>"
            ]
          },
          "metadata": {},
          "output_type": "display_data"
        }
      ],
      "source": [
        "vis_train_test_comp_graphs(train_losses, train_acc, test_losses, test_acc)"
      ]
    },
    {
      "cell_type": "code",
      "execution_count": 22,
      "metadata": {
        "colab": {
          "base_uri": "https://localhost:8080/"
        },
        "id": "C8WZPfXe4iK_",
        "outputId": "789fa4b8-42ad-4b20-a516-3076f5f185b4"
      },
      "outputs": [
        {
          "name": "stdout",
          "output_type": "stream",
          "text": [
            "Looking in indexes: https://pypi.org/simple, https://us-python.pkg.dev/colab-wheels/public/simple/\n",
            "Requirement already satisfied: torchsummary in /usr/local/lib/python3.10/dist-packages (1.5.1)\n",
            "----------------------------------------------------------------\n",
            "        Layer (type)               Output Shape         Param #\n",
            "================================================================\n",
            "            Conv2d-1           [-1, 32, 26, 26]             320\n",
            "            Conv2d-2           [-1, 64, 24, 24]          18,496\n",
            "            Conv2d-3          [-1, 128, 10, 10]          73,856\n",
            "            Conv2d-4            [-1, 256, 8, 8]         295,168\n",
            "            Linear-5                   [-1, 50]         204,850\n",
            "            Linear-6                   [-1, 10]             510\n",
            "================================================================\n",
            "Total params: 593,200\n",
            "Trainable params: 593,200\n",
            "Non-trainable params: 0\n",
            "----------------------------------------------------------------\n",
            "Input size (MB): 0.00\n",
            "Forward/backward pass size (MB): 0.67\n",
            "Params size (MB): 2.26\n",
            "Estimated Total Size (MB): 2.94\n",
            "----------------------------------------------------------------\n"
          ]
        }
      ],
      "source": [
        "!pip install torchsummary\n",
        "from torchsummary import summary\n",
        "\n",
        "summary(model, input_size=(1, 28, 28))"
      ]
    },
    {
      "cell_type": "code",
      "execution_count": 25,
      "metadata": {
        "colab": {
          "base_uri": "https://localhost:8080/"
        },
        "id": "wDBnyVm6XrXL",
        "outputId": "fceaae65-21ff-48fb-b18e-8d68b85f59aa"
      },
      "outputs": [
        {
          "name": "stdout",
          "output_type": "stream",
          "text": [
            "Looking in indexes: https://pypi.org/simple, https://us-python.pkg.dev/colab-wheels/public/simple/\n",
            "Collecting git+https://github.com/szagoruyko/pytorchviz.git@master\n",
            "  Cloning https://github.com/szagoruyko/pytorchviz.git (to revision master) to /tmp/pip-req-build-3737jqvk\n",
            "  Running command git clone --filter=blob:none --quiet https://github.com/szagoruyko/pytorchviz.git /tmp/pip-req-build-3737jqvk\n",
            "  Resolved https://github.com/szagoruyko/pytorchviz.git to commit 0adcd83af8aa7ab36d6afd139cabbd9df598edb7\n",
            "  Preparing metadata (setup.py) ... \u001b[?25l\u001b[?25hdone\n",
            "Requirement already satisfied: torch in /usr/local/lib/python3.10/dist-packages (from torchviz==0.0.2) (2.0.1+cu118)\n",
            "Requirement already satisfied: graphviz in /usr/local/lib/python3.10/dist-packages (from torchviz==0.0.2) (0.20.1)\n",
            "Requirement already satisfied: filelock in /usr/local/lib/python3.10/dist-packages (from torch->torchviz==0.0.2) (3.12.0)\n",
            "Requirement already satisfied: typing-extensions in /usr/local/lib/python3.10/dist-packages (from torch->torchviz==0.0.2) (4.5.0)\n",
            "Requirement already satisfied: sympy in /usr/local/lib/python3.10/dist-packages (from torch->torchviz==0.0.2) (1.11.1)\n",
            "Requirement already satisfied: networkx in /usr/local/lib/python3.10/dist-packages (from torch->torchviz==0.0.2) (3.1)\n",
            "Requirement already satisfied: jinja2 in /usr/local/lib/python3.10/dist-packages (from torch->torchviz==0.0.2) (3.1.2)\n",
            "Requirement already satisfied: triton==2.0.0 in /usr/local/lib/python3.10/dist-packages (from torch->torchviz==0.0.2) (2.0.0)\n",
            "Requirement already satisfied: cmake in /usr/local/lib/python3.10/dist-packages (from triton==2.0.0->torch->torchviz==0.0.2) (3.25.2)\n",
            "Requirement already satisfied: lit in /usr/local/lib/python3.10/dist-packages (from triton==2.0.0->torch->torchviz==0.0.2) (16.0.5)\n",
            "Requirement already satisfied: MarkupSafe>=2.0 in /usr/local/lib/python3.10/dist-packages (from jinja2->torch->torchviz==0.0.2) (2.1.2)\n",
            "Requirement already satisfied: mpmath>=0.19 in /usr/local/lib/python3.10/dist-packages (from sympy->torch->torchviz==0.0.2) (1.3.0)\n"
          ]
        }
      ],
      "source": [
        "%pip install -U git+https://github.com/szagoruyko/pytorchviz.git@master\n",
        "from torchviz import make_dot, make_dot_from_trace"
      ]
    },
    {
      "cell_type": "code",
      "execution_count": 32,
      "metadata": {
        "colab": {
          "base_uri": "https://localhost:8080/",
          "height": 1000
        },
        "id": "OTKqDB3owU_3",
        "outputId": "5dad170f-fd4f-4bdb-aef5-44f6d6bb16bf"
      },
      "outputs": [
        {
          "data": {
            "image/svg+xml": [
              "<?xml version=\"1.0\" encoding=\"UTF-8\" standalone=\"no\"?>\n",
              "<!DOCTYPE svg PUBLIC \"-//W3C//DTD SVG 1.1//EN\"\n",
              " \"http://www.w3.org/Graphics/SVG/1.1/DTD/svg11.dtd\">\n",
              "<!-- Generated by graphviz version 2.43.0 (0)\n",
              " -->\n",
              "<!-- Title: %3 Pages: 1 -->\n",
              "<svg width=\"1343pt\" height=\"1372pt\"\n",
              " viewBox=\"0.00 0.00 1343.36 1372.00\" xmlns=\"http://www.w3.org/2000/svg\" xmlns:xlink=\"http://www.w3.org/1999/xlink\">\n",
              "<g id=\"graph0\" class=\"graph\" transform=\"scale(1.43 1.43) rotate(0) translate(4 1960)\">\n",
              "<title>%3</title>\n",
              "<polygon fill=\"white\" stroke=\"transparent\" points=\"-4,4 -4,-1960 1919,-1960 1919,4 -4,4\"/>\n",
              "<!-- 139720547840496 -->\n",
              "<g id=\"node1\" class=\"node\">\n",
              "<title>139720547840496</title>\n",
              "<polygon fill=\"#caff70\" stroke=\"black\" points=\"1061,-31 984,-31 984,0 1061,0 1061,-31\"/>\n",
              "<text text-anchor=\"middle\" x=\"1022.5\" y=\"-7\" font-family=\"monospace\" font-size=\"10.00\"> (512, 10)</text>\n",
              "</g>\n",
              "<!-- 139720547904304 -->\n",
              "<g id=\"node2\" class=\"node\">\n",
              "<title>139720547904304</title>\n",
              "<polygon fill=\"lightgrey\" stroke=\"black\" points=\"1144,-119 995,-119 995,-67 1144,-67 1144,-119\"/>\n",
              "<text text-anchor=\"middle\" x=\"1069.5\" y=\"-107\" font-family=\"monospace\" font-size=\"10.00\">LogSoftmaxBackward0</text>\n",
              "<text text-anchor=\"middle\" x=\"1069.5\" y=\"-96\" font-family=\"monospace\" font-size=\"10.00\">&#45;&#45;&#45;&#45;&#45;&#45;&#45;&#45;&#45;&#45;&#45;&#45;&#45;&#45;&#45;&#45;&#45;&#45;&#45;&#45;&#45;&#45;</text>\n",
              "<text text-anchor=\"middle\" x=\"1069.5\" y=\"-85\" font-family=\"monospace\" font-size=\"10.00\">dim &#160;&#160;: &#160;&#160;&#160;&#160;&#160;&#160;&#160;&#160;&#160;&#160;&#160;&#160;&#160;1</text>\n",
              "<text text-anchor=\"middle\" x=\"1069.5\" y=\"-74\" font-family=\"monospace\" font-size=\"10.00\">result: [saved tensor]</text>\n",
              "</g>\n",
              "<!-- 139720547904304&#45;&gt;139720547840496 -->\n",
              "<g id=\"edge63\" class=\"edge\">\n",
              "<title>139720547904304&#45;&gt;139720547840496</title>\n",
              "<path fill=\"none\" stroke=\"black\" d=\"M1053.85,-66.86C1048.44,-58.17 1042.4,-48.46 1037.07,-39.91\"/>\n",
              "<polygon fill=\"black\" stroke=\"black\" points=\"1039.9,-37.83 1031.64,-31.19 1033.96,-41.53 1039.9,-37.83\"/>\n",
              "</g>\n",
              "<!-- 139722138790112 -->\n",
              "<g id=\"node3\" class=\"node\">\n",
              "<title>139722138790112</title>\n",
              "<polygon fill=\"orange\" stroke=\"black\" points=\"1156,-30.5 1079,-30.5 1079,-0.5 1156,-0.5 1156,-30.5\"/>\n",
              "<text text-anchor=\"middle\" x=\"1117.5\" y=\"-18.5\" font-family=\"monospace\" font-size=\"10.00\">result</text>\n",
              "<text text-anchor=\"middle\" x=\"1117.5\" y=\"-7.5\" font-family=\"monospace\" font-size=\"10.00\"> (512, 10)</text>\n",
              "</g>\n",
              "<!-- 139720547904304&#45;&gt;139722138790112 -->\n",
              "<g id=\"edge1\" class=\"edge\">\n",
              "<title>139720547904304&#45;&gt;139722138790112</title>\n",
              "<path fill=\"none\" stroke=\"black\" d=\"M1085.48,-66.86C1093.12,-54.85 1101.98,-40.91 1108.44,-30.75\"/>\n",
              "</g>\n",
              "<!-- 139720547902672 -->\n",
              "<g id=\"node4\" class=\"node\">\n",
              "<title>139720547902672</title>\n",
              "<polygon fill=\"lightgrey\" stroke=\"black\" points=\"1305,-273 1096,-273 1096,-155 1305,-155 1305,-273\"/>\n",
              "<text text-anchor=\"middle\" x=\"1200.5\" y=\"-261\" font-family=\"monospace\" font-size=\"10.00\">AddmmBackward0</text>\n",
              "<text text-anchor=\"middle\" x=\"1200.5\" y=\"-250\" font-family=\"monospace\" font-size=\"10.00\">&#45;&#45;&#45;&#45;&#45;&#45;&#45;&#45;&#45;&#45;&#45;&#45;&#45;&#45;&#45;&#45;&#45;&#45;&#45;&#45;&#45;&#45;&#45;&#45;&#45;&#45;&#45;&#45;&#45;&#45;&#45;&#45;</text>\n",
              "<text text-anchor=\"middle\" x=\"1200.5\" y=\"-239\" font-family=\"monospace\" font-size=\"10.00\">alpha &#160;&#160;&#160;&#160;&#160;&#160;&#160;&#160;&#160;&#160;: &#160;&#160;&#160;&#160;&#160;&#160;&#160;&#160;&#160;&#160;&#160;&#160;&#160;1</text>\n",
              "<text text-anchor=\"middle\" x=\"1200.5\" y=\"-228\" font-family=\"monospace\" font-size=\"10.00\">beta &#160;&#160;&#160;&#160;&#160;&#160;&#160;&#160;&#160;&#160;&#160;: &#160;&#160;&#160;&#160;&#160;&#160;&#160;&#160;&#160;&#160;&#160;&#160;&#160;1</text>\n",
              "<text text-anchor=\"middle\" x=\"1200.5\" y=\"-217\" font-family=\"monospace\" font-size=\"10.00\">mat1 &#160;&#160;&#160;&#160;&#160;&#160;&#160;&#160;&#160;&#160;&#160;: [saved tensor]</text>\n",
              "<text text-anchor=\"middle\" x=\"1200.5\" y=\"-206\" font-family=\"monospace\" font-size=\"10.00\">mat1_sym_sizes &#160;: &#160;&#160;&#160;&#160;&#160;(512, 50)</text>\n",
              "<text text-anchor=\"middle\" x=\"1200.5\" y=\"-195\" font-family=\"monospace\" font-size=\"10.00\">mat1_sym_strides: &#160;&#160;&#160;&#160;&#160;&#160;&#160;(50, 1)</text>\n",
              "<text text-anchor=\"middle\" x=\"1200.5\" y=\"-184\" font-family=\"monospace\" font-size=\"10.00\">mat2 &#160;&#160;&#160;&#160;&#160;&#160;&#160;&#160;&#160;&#160;&#160;: [saved tensor]</text>\n",
              "<text text-anchor=\"middle\" x=\"1200.5\" y=\"-173\" font-family=\"monospace\" font-size=\"10.00\">mat2_sym_sizes &#160;: &#160;&#160;&#160;&#160;&#160;&#160;(50, 10)</text>\n",
              "<text text-anchor=\"middle\" x=\"1200.5\" y=\"-162\" font-family=\"monospace\" font-size=\"10.00\">mat2_sym_strides: &#160;&#160;&#160;&#160;&#160;&#160;&#160;(1, 50)</text>\n",
              "</g>\n",
              "<!-- 139720547902672&#45;&gt;139720547904304 -->\n",
              "<g id=\"edge2\" class=\"edge\">\n",
              "<title>139720547902672&#45;&gt;139720547904304</title>\n",
              "<path fill=\"none\" stroke=\"black\" d=\"M1136.54,-154.89C1125.57,-144.93 1114.54,-134.92 1104.69,-125.97\"/>\n",
              "<polygon fill=\"black\" stroke=\"black\" points=\"1106.82,-123.17 1097.07,-119.04 1102.12,-128.36 1106.82,-123.17\"/>\n",
              "</g>\n",
              "<!-- 139720547842016 -->\n",
              "<g id=\"node5\" class=\"node\">\n",
              "<title>139720547842016</title>\n",
              "<polygon fill=\"orange\" stroke=\"black\" points=\"1239,-108 1162,-108 1162,-78 1239,-78 1239,-108\"/>\n",
              "<text text-anchor=\"middle\" x=\"1200.5\" y=\"-96\" font-family=\"monospace\" font-size=\"10.00\">mat1</text>\n",
              "<text text-anchor=\"middle\" x=\"1200.5\" y=\"-85\" font-family=\"monospace\" font-size=\"10.00\"> (512, 50)</text>\n",
              "</g>\n",
              "<!-- 139720547902672&#45;&gt;139720547842016 -->\n",
              "<g id=\"edge3\" class=\"edge\">\n",
              "<title>139720547902672&#45;&gt;139720547842016</title>\n",
              "<path fill=\"none\" stroke=\"black\" d=\"M1200.5,-154.89C1200.5,-137.43 1200.5,-119.81 1200.5,-108.04\"/>\n",
              "</g>\n",
              "<!-- 139720550184048 -->\n",
              "<g id=\"node6\" class=\"node\">\n",
              "<title>139720550184048</title>\n",
              "<polygon fill=\"orange\" stroke=\"black\" points=\"1328,-108 1257,-108 1257,-78 1328,-78 1328,-108\"/>\n",
              "<text text-anchor=\"middle\" x=\"1292.5\" y=\"-96\" font-family=\"monospace\" font-size=\"10.00\">mat2</text>\n",
              "<text text-anchor=\"middle\" x=\"1292.5\" y=\"-85\" font-family=\"monospace\" font-size=\"10.00\"> (50, 10)</text>\n",
              "</g>\n",
              "<!-- 139720547902672&#45;&gt;139720550184048 -->\n",
              "<g id=\"edge4\" class=\"edge\">\n",
              "<title>139720547902672&#45;&gt;139720550184048</title>\n",
              "<path fill=\"none\" stroke=\"black\" d=\"M1245.42,-154.89C1258.92,-137.43 1272.55,-119.81 1281.64,-108.04\"/>\n",
              "</g>\n",
              "<!-- 139720547908768 -->\n",
              "<g id=\"node7\" class=\"node\">\n",
              "<title>139720547908768</title>\n",
              "<polygon fill=\"lightgrey\" stroke=\"black\" points=\"1144,-339 1043,-339 1043,-320 1144,-320 1144,-339\"/>\n",
              "<text text-anchor=\"middle\" x=\"1093.5\" y=\"-327\" font-family=\"monospace\" font-size=\"10.00\">AccumulateGrad</text>\n",
              "</g>\n",
              "<!-- 139720547908768&#45;&gt;139720547902672 -->\n",
              "<g id=\"edge5\" class=\"edge\">\n",
              "<title>139720547908768&#45;&gt;139720547902672</title>\n",
              "<path fill=\"none\" stroke=\"black\" d=\"M1101.54,-319.97C1109.93,-311.07 1123.9,-296.25 1138.75,-280.5\"/>\n",
              "<polygon fill=\"black\" stroke=\"black\" points=\"1141.3,-282.9 1145.61,-273.22 1136.21,-278.1 1141.3,-282.9\"/>\n",
              "</g>\n",
              "<!-- 139722088546064 -->\n",
              "<g id=\"node8\" class=\"node\">\n",
              "<title>139722088546064</title>\n",
              "<polygon fill=\"lightblue\" stroke=\"black\" points=\"1126,-460 1061,-460 1061,-430 1126,-430 1126,-460\"/>\n",
              "<text text-anchor=\"middle\" x=\"1093.5\" y=\"-448\" font-family=\"monospace\" font-size=\"10.00\">fc2.bias</text>\n",
              "<text text-anchor=\"middle\" x=\"1093.5\" y=\"-437\" font-family=\"monospace\" font-size=\"10.00\"> (10)</text>\n",
              "</g>\n",
              "<!-- 139722088546064&#45;&gt;139720547908768 -->\n",
              "<g id=\"edge6\" class=\"edge\">\n",
              "<title>139722088546064&#45;&gt;139720547908768</title>\n",
              "<path fill=\"none\" stroke=\"black\" d=\"M1093.5,-429.63C1093.5,-409.21 1093.5,-371.81 1093.5,-349.24\"/>\n",
              "<polygon fill=\"black\" stroke=\"black\" points=\"1097,-349.23 1093.5,-339.23 1090,-349.23 1097,-349.23\"/>\n",
              "</g>\n",
              "<!-- 139720547894560 -->\n",
              "<g id=\"node9\" class=\"node\">\n",
              "<title>139720547894560</title>\n",
              "<polygon fill=\"lightgrey\" stroke=\"black\" points=\"1708,-350 1559,-350 1559,-309 1708,-309 1708,-350\"/>\n",
              "<text text-anchor=\"middle\" x=\"1633.5\" y=\"-338\" font-family=\"monospace\" font-size=\"10.00\">ReluBackward0</text>\n",
              "<text text-anchor=\"middle\" x=\"1633.5\" y=\"-327\" font-family=\"monospace\" font-size=\"10.00\">&#45;&#45;&#45;&#45;&#45;&#45;&#45;&#45;&#45;&#45;&#45;&#45;&#45;&#45;&#45;&#45;&#45;&#45;&#45;&#45;&#45;&#45;</text>\n",
              "<text text-anchor=\"middle\" x=\"1633.5\" y=\"-316\" font-family=\"monospace\" font-size=\"10.00\">result: [saved tensor]</text>\n",
              "</g>\n",
              "<!-- 139720547894560&#45;&gt;139720547902672 -->\n",
              "<g id=\"edge7\" class=\"edge\">\n",
              "<title>139720547894560&#45;&gt;139720547902672</title>\n",
              "<path fill=\"none\" stroke=\"black\" d=\"M1559.06,-308.99C1491.93,-291.39 1392.18,-265.24 1314.92,-244.99\"/>\n",
              "<polygon fill=\"black\" stroke=\"black\" points=\"1315.69,-241.58 1305.13,-242.43 1313.92,-248.35 1315.69,-241.58\"/>\n",
              "</g>\n",
              "<!-- 139720547933120 -->\n",
              "<g id=\"node10\" class=\"node\">\n",
              "<title>139720547933120</title>\n",
              "<polygon fill=\"orange\" stroke=\"black\" points=\"1672,-229 1595,-229 1595,-199 1672,-199 1672,-229\"/>\n",
              "<text text-anchor=\"middle\" x=\"1633.5\" y=\"-217\" font-family=\"monospace\" font-size=\"10.00\">result</text>\n",
              "<text text-anchor=\"middle\" x=\"1633.5\" y=\"-206\" font-family=\"monospace\" font-size=\"10.00\"> (512, 50)</text>\n",
              "</g>\n",
              "<!-- 139720547894560&#45;&gt;139720547933120 -->\n",
              "<g id=\"edge8\" class=\"edge\">\n",
              "<title>139720547894560&#45;&gt;139720547933120</title>\n",
              "<path fill=\"none\" stroke=\"black\" d=\"M1633.5,-308.99C1633.5,-286.3 1633.5,-249.39 1633.5,-229.24\"/>\n",
              "</g>\n",
              "<!-- 139720547901184 -->\n",
              "<g id=\"node11\" class=\"node\">\n",
              "<title>139720547901184</title>\n",
              "<polygon fill=\"lightgrey\" stroke=\"black\" points=\"1648,-504 1439,-504 1439,-386 1648,-386 1648,-504\"/>\n",
              "<text text-anchor=\"middle\" x=\"1543.5\" y=\"-492\" font-family=\"monospace\" font-size=\"10.00\">AddmmBackward0</text>\n",
              "<text text-anchor=\"middle\" x=\"1543.5\" y=\"-481\" font-family=\"monospace\" font-size=\"10.00\">&#45;&#45;&#45;&#45;&#45;&#45;&#45;&#45;&#45;&#45;&#45;&#45;&#45;&#45;&#45;&#45;&#45;&#45;&#45;&#45;&#45;&#45;&#45;&#45;&#45;&#45;&#45;&#45;&#45;&#45;&#45;&#45;</text>\n",
              "<text text-anchor=\"middle\" x=\"1543.5\" y=\"-470\" font-family=\"monospace\" font-size=\"10.00\">alpha &#160;&#160;&#160;&#160;&#160;&#160;&#160;&#160;&#160;&#160;: &#160;&#160;&#160;&#160;&#160;&#160;&#160;&#160;&#160;&#160;&#160;&#160;&#160;1</text>\n",
              "<text text-anchor=\"middle\" x=\"1543.5\" y=\"-459\" font-family=\"monospace\" font-size=\"10.00\">beta &#160;&#160;&#160;&#160;&#160;&#160;&#160;&#160;&#160;&#160;&#160;: &#160;&#160;&#160;&#160;&#160;&#160;&#160;&#160;&#160;&#160;&#160;&#160;&#160;1</text>\n",
              "<text text-anchor=\"middle\" x=\"1543.5\" y=\"-448\" font-family=\"monospace\" font-size=\"10.00\">mat1 &#160;&#160;&#160;&#160;&#160;&#160;&#160;&#160;&#160;&#160;&#160;: [saved tensor]</text>\n",
              "<text text-anchor=\"middle\" x=\"1543.5\" y=\"-437\" font-family=\"monospace\" font-size=\"10.00\">mat1_sym_sizes &#160;: &#160;&#160;&#160;(512, 4096)</text>\n",
              "<text text-anchor=\"middle\" x=\"1543.5\" y=\"-426\" font-family=\"monospace\" font-size=\"10.00\">mat1_sym_strides: &#160;&#160;&#160;&#160;&#160;(4096, 1)</text>\n",
              "<text text-anchor=\"middle\" x=\"1543.5\" y=\"-415\" font-family=\"monospace\" font-size=\"10.00\">mat2 &#160;&#160;&#160;&#160;&#160;&#160;&#160;&#160;&#160;&#160;&#160;: [saved tensor]</text>\n",
              "<text text-anchor=\"middle\" x=\"1543.5\" y=\"-404\" font-family=\"monospace\" font-size=\"10.00\">mat2_sym_sizes &#160;: &#160;&#160;&#160;&#160;(4096, 50)</text>\n",
              "<text text-anchor=\"middle\" x=\"1543.5\" y=\"-393\" font-family=\"monospace\" font-size=\"10.00\">mat2_sym_strides: &#160;&#160;&#160;&#160;&#160;(1, 4096)</text>\n",
              "</g>\n",
              "<!-- 139720547901184&#45;&gt;139720547894560 -->\n",
              "<g id=\"edge9\" class=\"edge\">\n",
              "<title>139720547901184&#45;&gt;139720547894560</title>\n",
              "<path fill=\"none\" stroke=\"black\" d=\"M1589.55,-385.92C1597.21,-376.27 1604.82,-366.66 1611.51,-358.23\"/>\n",
              "<polygon fill=\"black\" stroke=\"black\" points=\"1614.38,-360.24 1617.86,-350.23 1608.9,-355.89 1614.38,-360.24\"/>\n",
              "</g>\n",
              "<!-- 139720547843616 -->\n",
              "<g id=\"node12\" class=\"node\">\n",
              "<title>139720547843616</title>\n",
              "<polygon fill=\"orange\" stroke=\"black\" points=\"1541,-344.5 1452,-344.5 1452,-314.5 1541,-314.5 1541,-344.5\"/>\n",
              "<text text-anchor=\"middle\" x=\"1496.5\" y=\"-332.5\" font-family=\"monospace\" font-size=\"10.00\">mat1</text>\n",
              "<text text-anchor=\"middle\" x=\"1496.5\" y=\"-321.5\" font-family=\"monospace\" font-size=\"10.00\"> (512, 4096)</text>\n",
              "</g>\n",
              "<!-- 139720547901184&#45;&gt;139720547843616 -->\n",
              "<g id=\"edge10\" class=\"edge\">\n",
              "<title>139720547901184&#45;&gt;139720547843616</title>\n",
              "<path fill=\"none\" stroke=\"black\" d=\"M1519.45,-385.92C1513.13,-370.65 1506.85,-355.51 1502.47,-344.92\"/>\n",
              "</g>\n",
              "<!-- 139720547834416 -->\n",
              "<g id=\"node13\" class=\"node\">\n",
              "<title>139720547834416</title>\n",
              "<polygon fill=\"orange\" stroke=\"black\" points=\"1434,-344.5 1351,-344.5 1351,-314.5 1434,-314.5 1434,-344.5\"/>\n",
              "<text text-anchor=\"middle\" x=\"1392.5\" y=\"-332.5\" font-family=\"monospace\" font-size=\"10.00\">mat2</text>\n",
              "<text text-anchor=\"middle\" x=\"1392.5\" y=\"-321.5\" font-family=\"monospace\" font-size=\"10.00\"> (4096, 50)</text>\n",
              "</g>\n",
              "<!-- 139720547901184&#45;&gt;139720547834416 -->\n",
              "<g id=\"edge11\" class=\"edge\">\n",
              "<title>139720547901184&#45;&gt;139720547834416</title>\n",
              "<path fill=\"none\" stroke=\"black\" d=\"M1466.23,-385.92C1445.77,-370.54 1425.48,-355.29 1411.38,-344.69\"/>\n",
              "</g>\n",
              "<!-- 139720547907568 -->\n",
              "<g id=\"node14\" class=\"node\">\n",
              "<title>139720547907568</title>\n",
              "<polygon fill=\"lightgrey\" stroke=\"black\" points=\"1885,-570 1784,-570 1784,-551 1885,-551 1885,-570\"/>\n",
              "<text text-anchor=\"middle\" x=\"1834.5\" y=\"-558\" font-family=\"monospace\" font-size=\"10.00\">AccumulateGrad</text>\n",
              "</g>\n",
              "<!-- 139720547907568&#45;&gt;139720547901184 -->\n",
              "<g id=\"edge12\" class=\"edge\">\n",
              "<title>139720547907568&#45;&gt;139720547901184</title>\n",
              "<path fill=\"none\" stroke=\"black\" d=\"M1812.63,-550.97C1779.76,-538.15 1715.34,-513.02 1657.77,-490.57\"/>\n",
              "<polygon fill=\"black\" stroke=\"black\" points=\"1658.81,-487.22 1648.22,-486.85 1656.27,-493.74 1658.81,-487.22\"/>\n",
              "</g>\n",
              "<!-- 139722088545904 -->\n",
              "<g id=\"node15\" class=\"node\">\n",
              "<title>139722088545904</title>\n",
              "<polygon fill=\"lightblue\" stroke=\"black\" points=\"1915,-652.5 1850,-652.5 1850,-622.5 1915,-622.5 1915,-652.5\"/>\n",
              "<text text-anchor=\"middle\" x=\"1882.5\" y=\"-640.5\" font-family=\"monospace\" font-size=\"10.00\">fc1.bias</text>\n",
              "<text text-anchor=\"middle\" x=\"1882.5\" y=\"-629.5\" font-family=\"monospace\" font-size=\"10.00\"> (50)</text>\n",
              "</g>\n",
              "<!-- 139722088545904&#45;&gt;139720547907568 -->\n",
              "<g id=\"edge13\" class=\"edge\">\n",
              "<title>139722088545904&#45;&gt;139720547907568</title>\n",
              "<path fill=\"none\" stroke=\"black\" d=\"M1873.47,-622.39C1865.6,-610.1 1854.16,-592.22 1845.71,-579.02\"/>\n",
              "<polygon fill=\"black\" stroke=\"black\" points=\"1848.52,-576.91 1840.18,-570.37 1842.62,-580.68 1848.52,-576.91\"/>\n",
              "</g>\n",
              "<!-- 139720547901136 -->\n",
              "<g id=\"node16\" class=\"node\">\n",
              "<title>139720547901136</title>\n",
              "<polygon fill=\"lightgrey\" stroke=\"black\" points=\"1671,-581 1462,-581 1462,-540 1671,-540 1671,-581\"/>\n",
              "<text text-anchor=\"middle\" x=\"1566.5\" y=\"-569\" font-family=\"monospace\" font-size=\"10.00\">ViewBackward0</text>\n",
              "<text text-anchor=\"middle\" x=\"1566.5\" y=\"-558\" font-family=\"monospace\" font-size=\"10.00\">&#45;&#45;&#45;&#45;&#45;&#45;&#45;&#45;&#45;&#45;&#45;&#45;&#45;&#45;&#45;&#45;&#45;&#45;&#45;&#45;&#45;&#45;&#45;&#45;&#45;&#45;&#45;&#45;&#45;&#45;&#45;&#45;</text>\n",
              "<text text-anchor=\"middle\" x=\"1566.5\" y=\"-547\" font-family=\"monospace\" font-size=\"10.00\">self_sym_sizes: (512, 256, 4, 4)</text>\n",
              "</g>\n",
              "<!-- 139720547901136&#45;&gt;139720547901184 -->\n",
              "<g id=\"edge14\" class=\"edge\">\n",
              "<title>139720547901136&#45;&gt;139720547901184</title>\n",
              "<path fill=\"none\" stroke=\"black\" d=\"M1562.55,-539.99C1561.04,-532.56 1559.22,-523.6 1557.32,-514.2\"/>\n",
              "<polygon fill=\"black\" stroke=\"black\" points=\"1560.73,-513.41 1555.31,-504.3 1553.87,-514.8 1560.73,-513.41\"/>\n",
              "</g>\n",
              "<!-- 139720547907712 -->\n",
              "<g id=\"node17\" class=\"node\">\n",
              "<title>139720547907712</title>\n",
              "<polygon fill=\"lightgrey\" stroke=\"black\" points=\"1558,-658 1409,-658 1409,-617 1558,-617 1558,-658\"/>\n",
              "<text text-anchor=\"middle\" x=\"1483.5\" y=\"-646\" font-family=\"monospace\" font-size=\"10.00\">ReluBackward0</text>\n",
              "<text text-anchor=\"middle\" x=\"1483.5\" y=\"-635\" font-family=\"monospace\" font-size=\"10.00\">&#45;&#45;&#45;&#45;&#45;&#45;&#45;&#45;&#45;&#45;&#45;&#45;&#45;&#45;&#45;&#45;&#45;&#45;&#45;&#45;&#45;&#45;</text>\n",
              "<text text-anchor=\"middle\" x=\"1483.5\" y=\"-624\" font-family=\"monospace\" font-size=\"10.00\">result: [saved tensor]</text>\n",
              "</g>\n",
              "<!-- 139720547907712&#45;&gt;139720547901136 -->\n",
              "<g id=\"edge15\" class=\"edge\">\n",
              "<title>139720547907712&#45;&gt;139720547901136</title>\n",
              "<path fill=\"none\" stroke=\"black\" d=\"M1505.31,-616.79C1515.12,-607.92 1526.86,-597.32 1537.41,-587.79\"/>\n",
              "<polygon fill=\"black\" stroke=\"black\" points=\"1539.77,-590.38 1544.84,-581.07 1535.07,-585.18 1539.77,-590.38\"/>\n",
              "</g>\n",
              "<!-- 139720547834336 -->\n",
              "<g id=\"node18\" class=\"node\">\n",
              "<title>139720547834336</title>\n",
              "<polygon fill=\"orange\" stroke=\"black\" points=\"1444,-575.5 1325,-575.5 1325,-545.5 1444,-545.5 1444,-575.5\"/>\n",
              "<text text-anchor=\"middle\" x=\"1384.5\" y=\"-563.5\" font-family=\"monospace\" font-size=\"10.00\">result</text>\n",
              "<text text-anchor=\"middle\" x=\"1384.5\" y=\"-552.5\" font-family=\"monospace\" font-size=\"10.00\"> (512, 256, 4, 4)</text>\n",
              "</g>\n",
              "<!-- 139720547907712&#45;&gt;139720547834336 -->\n",
              "<g id=\"edge16\" class=\"edge\">\n",
              "<title>139720547907712&#45;&gt;139720547834336</title>\n",
              "<path fill=\"none\" stroke=\"black\" d=\"M1457.75,-616.99C1440.67,-604.06 1418.66,-587.38 1403.24,-575.7\"/>\n",
              "</g>\n",
              "<!-- 139720547898544 -->\n",
              "<g id=\"node19\" class=\"node\">\n",
              "<title>139720547898544</title>\n",
              "<polygon fill=\"lightgrey\" stroke=\"black\" points=\"1702,-801 1511,-801 1511,-694 1702,-694 1702,-801\"/>\n",
              "<text text-anchor=\"middle\" x=\"1606.5\" y=\"-789\" font-family=\"monospace\" font-size=\"10.00\">MaxPool2DWithIndicesBackward0</text>\n",
              "<text text-anchor=\"middle\" x=\"1606.5\" y=\"-778\" font-family=\"monospace\" font-size=\"10.00\">&#45;&#45;&#45;&#45;&#45;&#45;&#45;&#45;&#45;&#45;&#45;&#45;&#45;&#45;&#45;&#45;&#45;&#45;&#45;&#45;&#45;&#45;&#45;&#45;&#45;&#45;&#45;&#45;&#45;</text>\n",
              "<text text-anchor=\"middle\" x=\"1606.5\" y=\"-767\" font-family=\"monospace\" font-size=\"10.00\">ceil_mode &#160;: &#160;&#160;&#160;&#160;&#160;&#160;&#160;&#160;&#160;False</text>\n",
              "<text text-anchor=\"middle\" x=\"1606.5\" y=\"-756\" font-family=\"monospace\" font-size=\"10.00\">dilation &#160;&#160;: &#160;&#160;&#160;&#160;&#160;&#160;&#160;&#160;(1, 1)</text>\n",
              "<text text-anchor=\"middle\" x=\"1606.5\" y=\"-745\" font-family=\"monospace\" font-size=\"10.00\">kernel_size: &#160;&#160;&#160;&#160;&#160;&#160;&#160;&#160;(2, 2)</text>\n",
              "<text text-anchor=\"middle\" x=\"1606.5\" y=\"-734\" font-family=\"monospace\" font-size=\"10.00\">padding &#160;&#160;&#160;: &#160;&#160;&#160;&#160;&#160;&#160;&#160;&#160;(0, 0)</text>\n",
              "<text text-anchor=\"middle\" x=\"1606.5\" y=\"-723\" font-family=\"monospace\" font-size=\"10.00\">result1 &#160;&#160;&#160;: [saved tensor]</text>\n",
              "<text text-anchor=\"middle\" x=\"1606.5\" y=\"-712\" font-family=\"monospace\" font-size=\"10.00\">self &#160;&#160;&#160;&#160;&#160;&#160;: [saved tensor]</text>\n",
              "<text text-anchor=\"middle\" x=\"1606.5\" y=\"-701\" font-family=\"monospace\" font-size=\"10.00\">stride &#160;&#160;&#160;&#160;: &#160;&#160;&#160;&#160;&#160;&#160;&#160;&#160;&#160;&#160;&#160;&#160;()</text>\n",
              "</g>\n",
              "<!-- 139720547898544&#45;&gt;139720547907712 -->\n",
              "<g id=\"edge17\" class=\"edge\">\n",
              "<title>139720547898544&#45;&gt;139720547907712</title>\n",
              "<path fill=\"none\" stroke=\"black\" d=\"M1546.44,-693.77C1534.99,-683.71 1523.47,-673.6 1513.47,-664.82\"/>\n",
              "<polygon fill=\"black\" stroke=\"black\" points=\"1515.64,-662.06 1505.81,-658.09 1511.02,-667.32 1515.64,-662.06\"/>\n",
              "</g>\n",
              "<!-- 139720547817472 -->\n",
              "<g id=\"node20\" class=\"node\">\n",
              "<title>139720547817472</title>\n",
              "<polygon fill=\"orange\" stroke=\"black\" points=\"1695,-652.5 1576,-652.5 1576,-622.5 1695,-622.5 1695,-652.5\"/>\n",
              "<text text-anchor=\"middle\" x=\"1635.5\" y=\"-640.5\" font-family=\"monospace\" font-size=\"10.00\">result1</text>\n",
              "<text text-anchor=\"middle\" x=\"1635.5\" y=\"-629.5\" font-family=\"monospace\" font-size=\"10.00\"> (512, 256, 4, 4)</text>\n",
              "</g>\n",
              "<!-- 139720547898544&#45;&gt;139720547817472 -->\n",
              "<g id=\"edge18\" class=\"edge\">\n",
              "<title>139720547898544&#45;&gt;139720547817472</title>\n",
              "<path fill=\"none\" stroke=\"black\" d=\"M1620.66,-693.77C1624.74,-678.56 1628.86,-663.22 1631.72,-652.57\"/>\n",
              "</g>\n",
              "<!-- 139720547841216 -->\n",
              "<g id=\"node21\" class=\"node\">\n",
              "<title>139720547841216</title>\n",
              "<polygon fill=\"orange\" stroke=\"black\" points=\"1832,-652.5 1713,-652.5 1713,-622.5 1832,-622.5 1832,-652.5\"/>\n",
              "<text text-anchor=\"middle\" x=\"1772.5\" y=\"-640.5\" font-family=\"monospace\" font-size=\"10.00\">self</text>\n",
              "<text text-anchor=\"middle\" x=\"1772.5\" y=\"-629.5\" font-family=\"monospace\" font-size=\"10.00\"> (512, 256, 8, 8)</text>\n",
              "</g>\n",
              "<!-- 139720547898544&#45;&gt;139720547841216 -->\n",
              "<g id=\"edge19\" class=\"edge\">\n",
              "<title>139720547898544&#45;&gt;139720547841216</title>\n",
              "<path fill=\"none\" stroke=\"black\" d=\"M1687.55,-693.77C1710.93,-678.56 1734.51,-663.22 1750.87,-652.57\"/>\n",
              "</g>\n",
              "<!-- 139720547900416 -->\n",
              "<g id=\"node22\" class=\"node\">\n",
              "<title>139720547900416</title>\n",
              "<polygon fill=\"lightgrey\" stroke=\"black\" points=\"1483,-966 1262,-966 1262,-837 1483,-837 1483,-966\"/>\n",
              "<text text-anchor=\"middle\" x=\"1372.5\" y=\"-954\" font-family=\"monospace\" font-size=\"10.00\">ConvolutionBackward0</text>\n",
              "<text text-anchor=\"middle\" x=\"1372.5\" y=\"-943\" font-family=\"monospace\" font-size=\"10.00\">&#45;&#45;&#45;&#45;&#45;&#45;&#45;&#45;&#45;&#45;&#45;&#45;&#45;&#45;&#45;&#45;&#45;&#45;&#45;&#45;&#45;&#45;&#45;&#45;&#45;&#45;&#45;&#45;&#45;&#45;&#45;&#45;&#45;&#45;</text>\n",
              "<text text-anchor=\"middle\" x=\"1372.5\" y=\"-932\" font-family=\"monospace\" font-size=\"10.00\">bias_sym_sizes_opt: &#160;&#160;&#160;&#160;&#160;&#160;&#160;&#160;(256,)</text>\n",
              "<text text-anchor=\"middle\" x=\"1372.5\" y=\"-921\" font-family=\"monospace\" font-size=\"10.00\">dilation &#160;&#160;&#160;&#160;&#160;&#160;&#160;&#160;&#160;: &#160;&#160;&#160;&#160;&#160;&#160;&#160;&#160;(1, 1)</text>\n",
              "<text text-anchor=\"middle\" x=\"1372.5\" y=\"-910\" font-family=\"monospace\" font-size=\"10.00\">groups &#160;&#160;&#160;&#160;&#160;&#160;&#160;&#160;&#160;&#160;&#160;: &#160;&#160;&#160;&#160;&#160;&#160;&#160;&#160;&#160;&#160;&#160;&#160;&#160;1</text>\n",
              "<text text-anchor=\"middle\" x=\"1372.5\" y=\"-899\" font-family=\"monospace\" font-size=\"10.00\">input &#160;&#160;&#160;&#160;&#160;&#160;&#160;&#160;&#160;&#160;&#160;&#160;: [saved tensor]</text>\n",
              "<text text-anchor=\"middle\" x=\"1372.5\" y=\"-888\" font-family=\"monospace\" font-size=\"10.00\">output_padding &#160;&#160;&#160;: &#160;&#160;&#160;&#160;&#160;&#160;&#160;&#160;(0, 0)</text>\n",
              "<text text-anchor=\"middle\" x=\"1372.5\" y=\"-877\" font-family=\"monospace\" font-size=\"10.00\">padding &#160;&#160;&#160;&#160;&#160;&#160;&#160;&#160;&#160;&#160;: &#160;&#160;&#160;&#160;&#160;&#160;&#160;&#160;(0, 0)</text>\n",
              "<text text-anchor=\"middle\" x=\"1372.5\" y=\"-866\" font-family=\"monospace\" font-size=\"10.00\">stride &#160;&#160;&#160;&#160;&#160;&#160;&#160;&#160;&#160;&#160;&#160;: &#160;&#160;&#160;&#160;&#160;&#160;&#160;&#160;(1, 1)</text>\n",
              "<text text-anchor=\"middle\" x=\"1372.5\" y=\"-855\" font-family=\"monospace\" font-size=\"10.00\">transposed &#160;&#160;&#160;&#160;&#160;&#160;&#160;: &#160;&#160;&#160;&#160;&#160;&#160;&#160;&#160;&#160;False</text>\n",
              "<text text-anchor=\"middle\" x=\"1372.5\" y=\"-844\" font-family=\"monospace\" font-size=\"10.00\">weight &#160;&#160;&#160;&#160;&#160;&#160;&#160;&#160;&#160;&#160;&#160;: [saved tensor]</text>\n",
              "</g>\n",
              "<!-- 139720547900416&#45;&gt;139720547898544 -->\n",
              "<g id=\"edge20\" class=\"edge\">\n",
              "<title>139720547900416&#45;&gt;139720547898544</title>\n",
              "<path fill=\"none\" stroke=\"black\" d=\"M1470.38,-836.92C1485.91,-826.83 1501.91,-816.44 1517.23,-806.49\"/>\n",
              "<polygon fill=\"black\" stroke=\"black\" points=\"1519.19,-809.39 1525.67,-801.01 1515.38,-803.52 1519.19,-809.39\"/>\n",
              "</g>\n",
              "<!-- 139720547832816 -->\n",
              "<g id=\"node23\" class=\"node\">\n",
              "<title>139720547832816</title>\n",
              "<polygon fill=\"orange\" stroke=\"black\" points=\"1175,-762.5 1044,-762.5 1044,-732.5 1175,-732.5 1175,-762.5\"/>\n",
              "<text text-anchor=\"middle\" x=\"1109.5\" y=\"-750.5\" font-family=\"monospace\" font-size=\"10.00\">input</text>\n",
              "<text text-anchor=\"middle\" x=\"1109.5\" y=\"-739.5\" font-family=\"monospace\" font-size=\"10.00\"> (512, 128, 10, 10)</text>\n",
              "</g>\n",
              "<!-- 139720547900416&#45;&gt;139720547832816 -->\n",
              "<g id=\"edge21\" class=\"edge\">\n",
              "<title>139720547900416&#45;&gt;139720547832816</title>\n",
              "<path fill=\"none\" stroke=\"black\" d=\"M1261.69,-841.83C1258.59,-840.2 1255.53,-838.59 1252.5,-837 1221.88,-820.91 1213.01,-819.05 1183.5,-801 1163.88,-789 1142.57,-773.61 1127.88,-762.6\"/>\n",
              "</g>\n",
              "<!-- 139722088545664 -->\n",
              "<g id=\"node24\" class=\"node\">\n",
              "<title>139722088545664</title>\n",
              "<polygon fill=\"lightblue\" stroke=\"black\" points=\"1476,-762.5 1357,-762.5 1357,-732.5 1476,-732.5 1476,-762.5\"/>\n",
              "<text text-anchor=\"middle\" x=\"1416.5\" y=\"-750.5\" font-family=\"monospace\" font-size=\"10.00\">conv4.weight</text>\n",
              "<text text-anchor=\"middle\" x=\"1416.5\" y=\"-739.5\" font-family=\"monospace\" font-size=\"10.00\"> (256, 128, 3, 3)</text>\n",
              "</g>\n",
              "<!-- 139720547900416&#45;&gt;139722088545664 -->\n",
              "<g id=\"edge22\" class=\"edge\">\n",
              "<title>139720547900416&#45;&gt;139722088545664</title>\n",
              "<path fill=\"none\" stroke=\"black\" d=\"M1390.91,-836.92C1398.86,-809.42 1407.47,-779.7 1412.4,-762.67\"/>\n",
              "</g>\n",
              "<!-- 139720547902576 -->\n",
              "<g id=\"node52\" class=\"node\">\n",
              "<title>139720547902576</title>\n",
              "<polygon fill=\"lightgrey\" stroke=\"black\" points=\"1391,-647 1290,-647 1290,-628 1391,-628 1391,-647\"/>\n",
              "<text text-anchor=\"middle\" x=\"1340.5\" y=\"-635\" font-family=\"monospace\" font-size=\"10.00\">AccumulateGrad</text>\n",
              "</g>\n",
              "<!-- 139722088545664&#45;&gt;139720547902576 -->\n",
              "<g id=\"edge54\" class=\"edge\">\n",
              "<title>139722088545664&#45;&gt;139720547902576</title>\n",
              "<path fill=\"none\" stroke=\"black\" d=\"M1406.56,-732.38C1392.61,-712.56 1367.27,-676.53 1352.35,-655.34\"/>\n",
              "<polygon fill=\"black\" stroke=\"black\" points=\"1355.1,-653.17 1346.49,-647.01 1349.38,-657.2 1355.1,-653.17\"/>\n",
              "</g>\n",
              "<!-- 139720547894992 -->\n",
              "<g id=\"node25\" class=\"node\">\n",
              "<title>139720547894992</title>\n",
              "<polygon fill=\"lightgrey\" stroke=\"black\" points=\"1279,-1043 1130,-1043 1130,-1002 1279,-1002 1279,-1043\"/>\n",
              "<text text-anchor=\"middle\" x=\"1204.5\" y=\"-1031\" font-family=\"monospace\" font-size=\"10.00\">ReluBackward0</text>\n",
              "<text text-anchor=\"middle\" x=\"1204.5\" y=\"-1020\" font-family=\"monospace\" font-size=\"10.00\">&#45;&#45;&#45;&#45;&#45;&#45;&#45;&#45;&#45;&#45;&#45;&#45;&#45;&#45;&#45;&#45;&#45;&#45;&#45;&#45;&#45;&#45;</text>\n",
              "<text text-anchor=\"middle\" x=\"1204.5\" y=\"-1009\" font-family=\"monospace\" font-size=\"10.00\">result: [saved tensor]</text>\n",
              "</g>\n",
              "<!-- 139720547894992&#45;&gt;139720547900416 -->\n",
              "<g id=\"edge23\" class=\"edge\">\n",
              "<title>139720547894992&#45;&gt;139720547900416</title>\n",
              "<path fill=\"none\" stroke=\"black\" d=\"M1232.24,-1001.85C1244.12,-993.44 1258.77,-983.06 1274.07,-972.22\"/>\n",
              "<polygon fill=\"black\" stroke=\"black\" points=\"1276.5,-974.79 1282.63,-966.16 1272.45,-969.08 1276.5,-974.79\"/>\n",
              "</g>\n",
              "<!-- 139722139117552 -->\n",
              "<g id=\"node26\" class=\"node\">\n",
              "<title>139722139117552</title>\n",
              "<polygon fill=\"orange\" stroke=\"black\" points=\"1244,-916.5 1113,-916.5 1113,-886.5 1244,-886.5 1244,-916.5\"/>\n",
              "<text text-anchor=\"middle\" x=\"1178.5\" y=\"-904.5\" font-family=\"monospace\" font-size=\"10.00\">result</text>\n",
              "<text text-anchor=\"middle\" x=\"1178.5\" y=\"-893.5\" font-family=\"monospace\" font-size=\"10.00\"> (512, 128, 10, 10)</text>\n",
              "</g>\n",
              "<!-- 139720547894992&#45;&gt;139722139117552 -->\n",
              "<g id=\"edge24\" class=\"edge\">\n",
              "<title>139720547894992&#45;&gt;139722139117552</title>\n",
              "<path fill=\"none\" stroke=\"black\" d=\"M1200.21,-1001.85C1194.96,-977.82 1186.2,-937.74 1181.58,-916.58\"/>\n",
              "</g>\n",
              "<!-- 139720547900032 -->\n",
              "<g id=\"node27\" class=\"node\">\n",
              "<title>139720547900032</title>\n",
              "<polygon fill=\"lightgrey\" stroke=\"black\" points=\"1124,-1208 903,-1208 903,-1079 1124,-1079 1124,-1208\"/>\n",
              "<text text-anchor=\"middle\" x=\"1013.5\" y=\"-1196\" font-family=\"monospace\" font-size=\"10.00\">ConvolutionBackward0</text>\n",
              "<text text-anchor=\"middle\" x=\"1013.5\" y=\"-1185\" font-family=\"monospace\" font-size=\"10.00\">&#45;&#45;&#45;&#45;&#45;&#45;&#45;&#45;&#45;&#45;&#45;&#45;&#45;&#45;&#45;&#45;&#45;&#45;&#45;&#45;&#45;&#45;&#45;&#45;&#45;&#45;&#45;&#45;&#45;&#45;&#45;&#45;&#45;&#45;</text>\n",
              "<text text-anchor=\"middle\" x=\"1013.5\" y=\"-1174\" font-family=\"monospace\" font-size=\"10.00\">bias_sym_sizes_opt: &#160;&#160;&#160;&#160;&#160;&#160;&#160;&#160;(128,)</text>\n",
              "<text text-anchor=\"middle\" x=\"1013.5\" y=\"-1163\" font-family=\"monospace\" font-size=\"10.00\">dilation &#160;&#160;&#160;&#160;&#160;&#160;&#160;&#160;&#160;: &#160;&#160;&#160;&#160;&#160;&#160;&#160;&#160;(1, 1)</text>\n",
              "<text text-anchor=\"middle\" x=\"1013.5\" y=\"-1152\" font-family=\"monospace\" font-size=\"10.00\">groups &#160;&#160;&#160;&#160;&#160;&#160;&#160;&#160;&#160;&#160;&#160;: &#160;&#160;&#160;&#160;&#160;&#160;&#160;&#160;&#160;&#160;&#160;&#160;&#160;1</text>\n",
              "<text text-anchor=\"middle\" x=\"1013.5\" y=\"-1141\" font-family=\"monospace\" font-size=\"10.00\">input &#160;&#160;&#160;&#160;&#160;&#160;&#160;&#160;&#160;&#160;&#160;&#160;: [saved tensor]</text>\n",
              "<text text-anchor=\"middle\" x=\"1013.5\" y=\"-1130\" font-family=\"monospace\" font-size=\"10.00\">output_padding &#160;&#160;&#160;: &#160;&#160;&#160;&#160;&#160;&#160;&#160;&#160;(0, 0)</text>\n",
              "<text text-anchor=\"middle\" x=\"1013.5\" y=\"-1119\" font-family=\"monospace\" font-size=\"10.00\">padding &#160;&#160;&#160;&#160;&#160;&#160;&#160;&#160;&#160;&#160;: &#160;&#160;&#160;&#160;&#160;&#160;&#160;&#160;(0, 0)</text>\n",
              "<text text-anchor=\"middle\" x=\"1013.5\" y=\"-1108\" font-family=\"monospace\" font-size=\"10.00\">stride &#160;&#160;&#160;&#160;&#160;&#160;&#160;&#160;&#160;&#160;&#160;: &#160;&#160;&#160;&#160;&#160;&#160;&#160;&#160;(1, 1)</text>\n",
              "<text text-anchor=\"middle\" x=\"1013.5\" y=\"-1097\" font-family=\"monospace\" font-size=\"10.00\">transposed &#160;&#160;&#160;&#160;&#160;&#160;&#160;: &#160;&#160;&#160;&#160;&#160;&#160;&#160;&#160;&#160;False</text>\n",
              "<text text-anchor=\"middle\" x=\"1013.5\" y=\"-1086\" font-family=\"monospace\" font-size=\"10.00\">weight &#160;&#160;&#160;&#160;&#160;&#160;&#160;&#160;&#160;&#160;&#160;: [saved tensor]</text>\n",
              "</g>\n",
              "<!-- 139720547900032&#45;&gt;139720547894992 -->\n",
              "<g id=\"edge25\" class=\"edge\">\n",
              "<title>139720547900032&#45;&gt;139720547894992</title>\n",
              "<path fill=\"none\" stroke=\"black\" d=\"M1115.43,-1078.99C1132.8,-1068.17 1149.89,-1057.52 1164.38,-1048.5\"/>\n",
              "<polygon fill=\"black\" stroke=\"black\" points=\"1166.41,-1051.36 1173.05,-1043.1 1162.71,-1045.41 1166.41,-1051.36\"/>\n",
              "</g>\n",
              "<!-- 139720547839136 -->\n",
              "<g id=\"node28\" class=\"node\">\n",
              "<title>139720547839136</title>\n",
              "<polygon fill=\"orange\" stroke=\"black\" points=\"942,-1037.5 817,-1037.5 817,-1007.5 942,-1007.5 942,-1037.5\"/>\n",
              "<text text-anchor=\"middle\" x=\"879.5\" y=\"-1025.5\" font-family=\"monospace\" font-size=\"10.00\">input</text>\n",
              "<text text-anchor=\"middle\" x=\"879.5\" y=\"-1014.5\" font-family=\"monospace\" font-size=\"10.00\"> (512, 64, 12, 12)</text>\n",
              "</g>\n",
              "<!-- 139720547900032&#45;&gt;139720547839136 -->\n",
              "<g id=\"edge26\" class=\"edge\">\n",
              "<title>139720547900032&#45;&gt;139720547839136</title>\n",
              "<path fill=\"none\" stroke=\"black\" d=\"M941.79,-1078.82C924.24,-1063.24 907.13,-1048.04 895.29,-1037.53\"/>\n",
              "</g>\n",
              "<!-- 139722088545424 -->\n",
              "<g id=\"node29\" class=\"node\">\n",
              "<title>139722088545424</title>\n",
              "<polygon fill=\"lightblue\" stroke=\"black\" points=\"1112,-1037.5 999,-1037.5 999,-1007.5 1112,-1007.5 1112,-1037.5\"/>\n",
              "<text text-anchor=\"middle\" x=\"1055.5\" y=\"-1025.5\" font-family=\"monospace\" font-size=\"10.00\">conv3.weight</text>\n",
              "<text text-anchor=\"middle\" x=\"1055.5\" y=\"-1014.5\" font-family=\"monospace\" font-size=\"10.00\"> (128, 64, 3, 3)</text>\n",
              "</g>\n",
              "<!-- 139720547900032&#45;&gt;139722088545424 -->\n",
              "<g id=\"edge27\" class=\"edge\">\n",
              "<title>139720547900032&#45;&gt;139722088545424</title>\n",
              "<path fill=\"none\" stroke=\"black\" d=\"M1035.98,-1078.82C1041.44,-1063.35 1046.76,-1048.25 1050.47,-1037.75\"/>\n",
              "</g>\n",
              "<!-- 139720547893936 -->\n",
              "<g id=\"node49\" class=\"node\">\n",
              "<title>139720547893936</title>\n",
              "<polygon fill=\"lightgrey\" stroke=\"black\" points=\"1071,-911 970,-911 970,-892 1071,-892 1071,-911\"/>\n",
              "<text text-anchor=\"middle\" x=\"1020.5\" y=\"-899\" font-family=\"monospace\" font-size=\"10.00\">AccumulateGrad</text>\n",
              "</g>\n",
              "<!-- 139722088545424&#45;&gt;139720547893936 -->\n",
              "<g id=\"edge50\" class=\"edge\">\n",
              "<title>139722088545424&#45;&gt;139720547893936</title>\n",
              "<path fill=\"none\" stroke=\"black\" d=\"M1051.35,-1007.38C1045,-985.81 1032.9,-944.65 1025.89,-920.81\"/>\n",
              "<polygon fill=\"black\" stroke=\"black\" points=\"1029.24,-919.82 1023.06,-911.21 1022.53,-921.79 1029.24,-919.82\"/>\n",
              "</g>\n",
              "<!-- 139720547904160 -->\n",
              "<g id=\"node30\" class=\"node\">\n",
              "<title>139720547904160</title>\n",
              "<polygon fill=\"lightgrey\" stroke=\"black\" points=\"850,-1285 701,-1285 701,-1244 850,-1244 850,-1285\"/>\n",
              "<text text-anchor=\"middle\" x=\"775.5\" y=\"-1273\" font-family=\"monospace\" font-size=\"10.00\">ReluBackward0</text>\n",
              "<text text-anchor=\"middle\" x=\"775.5\" y=\"-1262\" font-family=\"monospace\" font-size=\"10.00\">&#45;&#45;&#45;&#45;&#45;&#45;&#45;&#45;&#45;&#45;&#45;&#45;&#45;&#45;&#45;&#45;&#45;&#45;&#45;&#45;&#45;&#45;</text>\n",
              "<text text-anchor=\"middle\" x=\"775.5\" y=\"-1251\" font-family=\"monospace\" font-size=\"10.00\">result: [saved tensor]</text>\n",
              "</g>\n",
              "<!-- 139720547904160&#45;&gt;139720547900032 -->\n",
              "<g id=\"edge28\" class=\"edge\">\n",
              "<title>139720547904160&#45;&gt;139720547900032</title>\n",
              "<path fill=\"none\" stroke=\"black\" d=\"M814.53,-1243.98C836.37,-1233.06 864.89,-1218.8 893.49,-1204.5\"/>\n",
              "<polygon fill=\"black\" stroke=\"black\" points=\"895.39,-1207.47 902.77,-1199.86 892.26,-1201.21 895.39,-1207.47\"/>\n",
              "</g>\n",
              "<!-- 139720547926720 -->\n",
              "<g id=\"node31\" class=\"node\">\n",
              "<title>139720547926720</title>\n",
              "<polygon fill=\"orange\" stroke=\"black\" points=\"838,-1158.5 713,-1158.5 713,-1128.5 838,-1128.5 838,-1158.5\"/>\n",
              "<text text-anchor=\"middle\" x=\"775.5\" y=\"-1146.5\" font-family=\"monospace\" font-size=\"10.00\">result</text>\n",
              "<text text-anchor=\"middle\" x=\"775.5\" y=\"-1135.5\" font-family=\"monospace\" font-size=\"10.00\"> (512, 64, 12, 12)</text>\n",
              "</g>\n",
              "<!-- 139720547904160&#45;&gt;139720547926720 -->\n",
              "<g id=\"edge29\" class=\"edge\">\n",
              "<title>139720547904160&#45;&gt;139720547926720</title>\n",
              "<path fill=\"none\" stroke=\"black\" d=\"M775.5,-1243.85C775.5,-1219.82 775.5,-1179.74 775.5,-1158.58\"/>\n",
              "</g>\n",
              "<!-- 139720547900464 -->\n",
              "<g id=\"node32\" class=\"node\">\n",
              "<title>139720547900464</title>\n",
              "<polygon fill=\"lightgrey\" stroke=\"black\" points=\"853,-1428 662,-1428 662,-1321 853,-1321 853,-1428\"/>\n",
              "<text text-anchor=\"middle\" x=\"757.5\" y=\"-1416\" font-family=\"monospace\" font-size=\"10.00\">MaxPool2DWithIndicesBackward0</text>\n",
              "<text text-anchor=\"middle\" x=\"757.5\" y=\"-1405\" font-family=\"monospace\" font-size=\"10.00\">&#45;&#45;&#45;&#45;&#45;&#45;&#45;&#45;&#45;&#45;&#45;&#45;&#45;&#45;&#45;&#45;&#45;&#45;&#45;&#45;&#45;&#45;&#45;&#45;&#45;&#45;&#45;&#45;&#45;</text>\n",
              "<text text-anchor=\"middle\" x=\"757.5\" y=\"-1394\" font-family=\"monospace\" font-size=\"10.00\">ceil_mode &#160;: &#160;&#160;&#160;&#160;&#160;&#160;&#160;&#160;&#160;False</text>\n",
              "<text text-anchor=\"middle\" x=\"757.5\" y=\"-1383\" font-family=\"monospace\" font-size=\"10.00\">dilation &#160;&#160;: &#160;&#160;&#160;&#160;&#160;&#160;&#160;&#160;(1, 1)</text>\n",
              "<text text-anchor=\"middle\" x=\"757.5\" y=\"-1372\" font-family=\"monospace\" font-size=\"10.00\">kernel_size: &#160;&#160;&#160;&#160;&#160;&#160;&#160;&#160;(2, 2)</text>\n",
              "<text text-anchor=\"middle\" x=\"757.5\" y=\"-1361\" font-family=\"monospace\" font-size=\"10.00\">padding &#160;&#160;&#160;: &#160;&#160;&#160;&#160;&#160;&#160;&#160;&#160;(0, 0)</text>\n",
              "<text text-anchor=\"middle\" x=\"757.5\" y=\"-1350\" font-family=\"monospace\" font-size=\"10.00\">result1 &#160;&#160;&#160;: [saved tensor]</text>\n",
              "<text text-anchor=\"middle\" x=\"757.5\" y=\"-1339\" font-family=\"monospace\" font-size=\"10.00\">self &#160;&#160;&#160;&#160;&#160;&#160;: [saved tensor]</text>\n",
              "<text text-anchor=\"middle\" x=\"757.5\" y=\"-1328\" font-family=\"monospace\" font-size=\"10.00\">stride &#160;&#160;&#160;&#160;: &#160;&#160;&#160;&#160;&#160;&#160;&#160;&#160;&#160;&#160;&#160;&#160;()</text>\n",
              "</g>\n",
              "<!-- 139720547900464&#45;&gt;139720547904160 -->\n",
              "<g id=\"edge30\" class=\"edge\">\n",
              "<title>139720547900464&#45;&gt;139720547904160</title>\n",
              "<path fill=\"none\" stroke=\"black\" d=\"M766.29,-1320.77C767.77,-1311.9 769.25,-1303 770.58,-1295\"/>\n",
              "<polygon fill=\"black\" stroke=\"black\" points=\"774.04,-1295.53 772.23,-1285.09 767.14,-1294.38 774.04,-1295.53\"/>\n",
              "</g>\n",
              "<!-- 139720547926320 -->\n",
              "<g id=\"node33\" class=\"node\">\n",
              "<title>139720547926320</title>\n",
              "<polygon fill=\"orange\" stroke=\"black\" points=\"993,-1279.5 868,-1279.5 868,-1249.5 993,-1249.5 993,-1279.5\"/>\n",
              "<text text-anchor=\"middle\" x=\"930.5\" y=\"-1267.5\" font-family=\"monospace\" font-size=\"10.00\">result1</text>\n",
              "<text text-anchor=\"middle\" x=\"930.5\" y=\"-1256.5\" font-family=\"monospace\" font-size=\"10.00\"> (512, 64, 12, 12)</text>\n",
              "</g>\n",
              "<!-- 139720547900464&#45;&gt;139720547926320 -->\n",
              "<g id=\"edge31\" class=\"edge\">\n",
              "<title>139720547900464&#45;&gt;139720547926320</title>\n",
              "<path fill=\"none\" stroke=\"black\" d=\"M841.72,-1320.92C866.12,-1305.69 890.77,-1290.3 907.88,-1279.62\"/>\n",
              "</g>\n",
              "<!-- 139720550629136 -->\n",
              "<g id=\"node34\" class=\"node\">\n",
              "<title>139720550629136</title>\n",
              "<polygon fill=\"orange\" stroke=\"black\" points=\"683,-1279.5 558,-1279.5 558,-1249.5 683,-1249.5 683,-1279.5\"/>\n",
              "<text text-anchor=\"middle\" x=\"620.5\" y=\"-1267.5\" font-family=\"monospace\" font-size=\"10.00\">self</text>\n",
              "<text text-anchor=\"middle\" x=\"620.5\" y=\"-1256.5\" font-family=\"monospace\" font-size=\"10.00\"> (512, 64, 24, 24)</text>\n",
              "</g>\n",
              "<!-- 139720547900464&#45;&gt;139720550629136 -->\n",
              "<g id=\"edge32\" class=\"edge\">\n",
              "<title>139720547900464&#45;&gt;139720550629136</title>\n",
              "<path fill=\"none\" stroke=\"black\" d=\"M690.61,-1320.77C671.32,-1305.56 651.86,-1290.22 638.35,-1279.57\"/>\n",
              "</g>\n",
              "<!-- 139720547900080 -->\n",
              "<g id=\"node35\" class=\"node\">\n",
              "<title>139720547900080</title>\n",
              "<polygon fill=\"lightgrey\" stroke=\"black\" points=\"641,-1593 420,-1593 420,-1464 641,-1464 641,-1593\"/>\n",
              "<text text-anchor=\"middle\" x=\"530.5\" y=\"-1581\" font-family=\"monospace\" font-size=\"10.00\">ConvolutionBackward0</text>\n",
              "<text text-anchor=\"middle\" x=\"530.5\" y=\"-1570\" font-family=\"monospace\" font-size=\"10.00\">&#45;&#45;&#45;&#45;&#45;&#45;&#45;&#45;&#45;&#45;&#45;&#45;&#45;&#45;&#45;&#45;&#45;&#45;&#45;&#45;&#45;&#45;&#45;&#45;&#45;&#45;&#45;&#45;&#45;&#45;&#45;&#45;&#45;&#45;</text>\n",
              "<text text-anchor=\"middle\" x=\"530.5\" y=\"-1559\" font-family=\"monospace\" font-size=\"10.00\">bias_sym_sizes_opt: &#160;&#160;&#160;&#160;&#160;&#160;&#160;&#160;&#160;(64,)</text>\n",
              "<text text-anchor=\"middle\" x=\"530.5\" y=\"-1548\" font-family=\"monospace\" font-size=\"10.00\">dilation &#160;&#160;&#160;&#160;&#160;&#160;&#160;&#160;&#160;: &#160;&#160;&#160;&#160;&#160;&#160;&#160;&#160;(1, 1)</text>\n",
              "<text text-anchor=\"middle\" x=\"530.5\" y=\"-1537\" font-family=\"monospace\" font-size=\"10.00\">groups &#160;&#160;&#160;&#160;&#160;&#160;&#160;&#160;&#160;&#160;&#160;: &#160;&#160;&#160;&#160;&#160;&#160;&#160;&#160;&#160;&#160;&#160;&#160;&#160;1</text>\n",
              "<text text-anchor=\"middle\" x=\"530.5\" y=\"-1526\" font-family=\"monospace\" font-size=\"10.00\">input &#160;&#160;&#160;&#160;&#160;&#160;&#160;&#160;&#160;&#160;&#160;&#160;: [saved tensor]</text>\n",
              "<text text-anchor=\"middle\" x=\"530.5\" y=\"-1515\" font-family=\"monospace\" font-size=\"10.00\">output_padding &#160;&#160;&#160;: &#160;&#160;&#160;&#160;&#160;&#160;&#160;&#160;(0, 0)</text>\n",
              "<text text-anchor=\"middle\" x=\"530.5\" y=\"-1504\" font-family=\"monospace\" font-size=\"10.00\">padding &#160;&#160;&#160;&#160;&#160;&#160;&#160;&#160;&#160;&#160;: &#160;&#160;&#160;&#160;&#160;&#160;&#160;&#160;(0, 0)</text>\n",
              "<text text-anchor=\"middle\" x=\"530.5\" y=\"-1493\" font-family=\"monospace\" font-size=\"10.00\">stride &#160;&#160;&#160;&#160;&#160;&#160;&#160;&#160;&#160;&#160;&#160;: &#160;&#160;&#160;&#160;&#160;&#160;&#160;&#160;(1, 1)</text>\n",
              "<text text-anchor=\"middle\" x=\"530.5\" y=\"-1482\" font-family=\"monospace\" font-size=\"10.00\">transposed &#160;&#160;&#160;&#160;&#160;&#160;&#160;: &#160;&#160;&#160;&#160;&#160;&#160;&#160;&#160;&#160;False</text>\n",
              "<text text-anchor=\"middle\" x=\"530.5\" y=\"-1471\" font-family=\"monospace\" font-size=\"10.00\">weight &#160;&#160;&#160;&#160;&#160;&#160;&#160;&#160;&#160;&#160;&#160;: [saved tensor]</text>\n",
              "</g>\n",
              "<!-- 139720547900080&#45;&gt;139720547900464 -->\n",
              "<g id=\"edge33\" class=\"edge\">\n",
              "<title>139720547900080&#45;&gt;139720547900464</title>\n",
              "<path fill=\"none\" stroke=\"black\" d=\"M625.45,-1463.92C640.38,-1453.92 655.75,-1443.63 670.49,-1433.76\"/>\n",
              "<polygon fill=\"black\" stroke=\"black\" points=\"672.72,-1436.48 679.09,-1428.01 668.83,-1430.66 672.72,-1436.48\"/>\n",
              "</g>\n",
              "<!-- 139720550627216 -->\n",
              "<g id=\"node36\" class=\"node\">\n",
              "<title>139720550627216</title>\n",
              "<polygon fill=\"orange\" stroke=\"black\" points=\"461,-1389.5 336,-1389.5 336,-1359.5 461,-1359.5 461,-1389.5\"/>\n",
              "<text text-anchor=\"middle\" x=\"398.5\" y=\"-1377.5\" font-family=\"monospace\" font-size=\"10.00\">input</text>\n",
              "<text text-anchor=\"middle\" x=\"398.5\" y=\"-1366.5\" font-family=\"monospace\" font-size=\"10.00\"> (512, 32, 26, 26)</text>\n",
              "</g>\n",
              "<!-- 139720547900080&#45;&gt;139720550627216 -->\n",
              "<g id=\"edge34\" class=\"edge\">\n",
              "<title>139720547900080&#45;&gt;139720550627216</title>\n",
              "<path fill=\"none\" stroke=\"black\" d=\"M475.28,-1463.92C451.41,-1436.42 425.59,-1406.7 410.8,-1389.67\"/>\n",
              "</g>\n",
              "<!-- 139722088246992 -->\n",
              "<g id=\"node37\" class=\"node\">\n",
              "<title>139722088246992</title>\n",
              "<polygon fill=\"lightblue\" stroke=\"black\" points=\"625,-1389.5 518,-1389.5 518,-1359.5 625,-1359.5 625,-1389.5\"/>\n",
              "<text text-anchor=\"middle\" x=\"571.5\" y=\"-1377.5\" font-family=\"monospace\" font-size=\"10.00\">conv2.weight</text>\n",
              "<text text-anchor=\"middle\" x=\"571.5\" y=\"-1366.5\" font-family=\"monospace\" font-size=\"10.00\"> (64, 32, 3, 3)</text>\n",
              "</g>\n",
              "<!-- 139720547900080&#45;&gt;139722088246992 -->\n",
              "<g id=\"edge35\" class=\"edge\">\n",
              "<title>139720547900080&#45;&gt;139722088246992</title>\n",
              "<path fill=\"none\" stroke=\"black\" d=\"M547.65,-1463.92C555.07,-1436.42 563.09,-1406.7 567.68,-1389.67\"/>\n",
              "</g>\n",
              "<!-- 139720547906032 -->\n",
              "<g id=\"node46\" class=\"node\">\n",
              "<title>139720547906032</title>\n",
              "<polygon fill=\"lightgrey\" stroke=\"black\" points=\"540,-1274 439,-1274 439,-1255 540,-1255 540,-1274\"/>\n",
              "<text text-anchor=\"middle\" x=\"489.5\" y=\"-1262\" font-family=\"monospace\" font-size=\"10.00\">AccumulateGrad</text>\n",
              "</g>\n",
              "<!-- 139722088246992&#45;&gt;139720547906032 -->\n",
              "<g id=\"edge46\" class=\"edge\">\n",
              "<title>139722088246992&#45;&gt;139720547906032</title>\n",
              "<path fill=\"none\" stroke=\"black\" d=\"M560.78,-1359.38C545.66,-1339.47 518.13,-1303.21 502.07,-1282.06\"/>\n",
              "<polygon fill=\"black\" stroke=\"black\" points=\"504.79,-1279.85 495.96,-1274.01 499.22,-1284.09 504.79,-1279.85\"/>\n",
              "</g>\n",
              "<!-- 139720547899984 -->\n",
              "<g id=\"node38\" class=\"node\">\n",
              "<title>139720547899984</title>\n",
              "<polygon fill=\"lightgrey\" stroke=\"black\" points=\"444,-1670 295,-1670 295,-1629 444,-1629 444,-1670\"/>\n",
              "<text text-anchor=\"middle\" x=\"369.5\" y=\"-1658\" font-family=\"monospace\" font-size=\"10.00\">ReluBackward0</text>\n",
              "<text text-anchor=\"middle\" x=\"369.5\" y=\"-1647\" font-family=\"monospace\" font-size=\"10.00\">&#45;&#45;&#45;&#45;&#45;&#45;&#45;&#45;&#45;&#45;&#45;&#45;&#45;&#45;&#45;&#45;&#45;&#45;&#45;&#45;&#45;&#45;</text>\n",
              "<text text-anchor=\"middle\" x=\"369.5\" y=\"-1636\" font-family=\"monospace\" font-size=\"10.00\">result: [saved tensor]</text>\n",
              "</g>\n",
              "<!-- 139720547899984&#45;&gt;139720547900080 -->\n",
              "<g id=\"edge36\" class=\"edge\">\n",
              "<title>139720547899984&#45;&gt;139720547900080</title>\n",
              "<path fill=\"none\" stroke=\"black\" d=\"M396.09,-1628.85C407.46,-1620.44 421.5,-1610.06 436.17,-1599.22\"/>\n",
              "<polygon fill=\"black\" stroke=\"black\" points=\"438.42,-1601.91 444.38,-1593.16 434.25,-1596.29 438.42,-1601.91\"/>\n",
              "</g>\n",
              "<!-- 139720547929040 -->\n",
              "<g id=\"node39\" class=\"node\">\n",
              "<title>139720547929040</title>\n",
              "<polygon fill=\"orange\" stroke=\"black\" points=\"402,-1543.5 277,-1543.5 277,-1513.5 402,-1513.5 402,-1543.5\"/>\n",
              "<text text-anchor=\"middle\" x=\"339.5\" y=\"-1531.5\" font-family=\"monospace\" font-size=\"10.00\">result</text>\n",
              "<text text-anchor=\"middle\" x=\"339.5\" y=\"-1520.5\" font-family=\"monospace\" font-size=\"10.00\"> (512, 32, 26, 26)</text>\n",
              "</g>\n",
              "<!-- 139720547899984&#45;&gt;139720547929040 -->\n",
              "<g id=\"edge37\" class=\"edge\">\n",
              "<title>139720547899984&#45;&gt;139720547929040</title>\n",
              "<path fill=\"none\" stroke=\"black\" d=\"M364.55,-1628.85C358.49,-1604.82 348.38,-1564.74 343.05,-1543.58\"/>\n",
              "</g>\n",
              "<!-- 139720547899696 -->\n",
              "<g id=\"node40\" class=\"node\">\n",
              "<title>139720547899696</title>\n",
              "<polygon fill=\"lightgrey\" stroke=\"black\" points=\"298,-1835 77,-1835 77,-1706 298,-1706 298,-1835\"/>\n",
              "<text text-anchor=\"middle\" x=\"187.5\" y=\"-1823\" font-family=\"monospace\" font-size=\"10.00\">ConvolutionBackward0</text>\n",
              "<text text-anchor=\"middle\" x=\"187.5\" y=\"-1812\" font-family=\"monospace\" font-size=\"10.00\">&#45;&#45;&#45;&#45;&#45;&#45;&#45;&#45;&#45;&#45;&#45;&#45;&#45;&#45;&#45;&#45;&#45;&#45;&#45;&#45;&#45;&#45;&#45;&#45;&#45;&#45;&#45;&#45;&#45;&#45;&#45;&#45;&#45;&#45;</text>\n",
              "<text text-anchor=\"middle\" x=\"187.5\" y=\"-1801\" font-family=\"monospace\" font-size=\"10.00\">bias_sym_sizes_opt: &#160;&#160;&#160;&#160;&#160;&#160;&#160;&#160;&#160;(32,)</text>\n",
              "<text text-anchor=\"middle\" x=\"187.5\" y=\"-1790\" font-family=\"monospace\" font-size=\"10.00\">dilation &#160;&#160;&#160;&#160;&#160;&#160;&#160;&#160;&#160;: &#160;&#160;&#160;&#160;&#160;&#160;&#160;&#160;(1, 1)</text>\n",
              "<text text-anchor=\"middle\" x=\"187.5\" y=\"-1779\" font-family=\"monospace\" font-size=\"10.00\">groups &#160;&#160;&#160;&#160;&#160;&#160;&#160;&#160;&#160;&#160;&#160;: &#160;&#160;&#160;&#160;&#160;&#160;&#160;&#160;&#160;&#160;&#160;&#160;&#160;1</text>\n",
              "<text text-anchor=\"middle\" x=\"187.5\" y=\"-1768\" font-family=\"monospace\" font-size=\"10.00\">input &#160;&#160;&#160;&#160;&#160;&#160;&#160;&#160;&#160;&#160;&#160;&#160;: [saved tensor]</text>\n",
              "<text text-anchor=\"middle\" x=\"187.5\" y=\"-1757\" font-family=\"monospace\" font-size=\"10.00\">output_padding &#160;&#160;&#160;: &#160;&#160;&#160;&#160;&#160;&#160;&#160;&#160;(0, 0)</text>\n",
              "<text text-anchor=\"middle\" x=\"187.5\" y=\"-1746\" font-family=\"monospace\" font-size=\"10.00\">padding &#160;&#160;&#160;&#160;&#160;&#160;&#160;&#160;&#160;&#160;: &#160;&#160;&#160;&#160;&#160;&#160;&#160;&#160;(0, 0)</text>\n",
              "<text text-anchor=\"middle\" x=\"187.5\" y=\"-1735\" font-family=\"monospace\" font-size=\"10.00\">stride &#160;&#160;&#160;&#160;&#160;&#160;&#160;&#160;&#160;&#160;&#160;: &#160;&#160;&#160;&#160;&#160;&#160;&#160;&#160;(1, 1)</text>\n",
              "<text text-anchor=\"middle\" x=\"187.5\" y=\"-1724\" font-family=\"monospace\" font-size=\"10.00\">transposed &#160;&#160;&#160;&#160;&#160;&#160;&#160;: &#160;&#160;&#160;&#160;&#160;&#160;&#160;&#160;&#160;False</text>\n",
              "<text text-anchor=\"middle\" x=\"187.5\" y=\"-1713\" font-family=\"monospace\" font-size=\"10.00\">weight &#160;&#160;&#160;&#160;&#160;&#160;&#160;&#160;&#160;&#160;&#160;: [saved tensor]</text>\n",
              "</g>\n",
              "<!-- 139720547899696&#45;&gt;139720547899984 -->\n",
              "<g id=\"edge38\" class=\"edge\">\n",
              "<title>139720547899696&#45;&gt;139720547899984</title>\n",
              "<path fill=\"none\" stroke=\"black\" d=\"M284.63,-1705.99C301.03,-1695.27 317.16,-1684.72 330.88,-1675.75\"/>\n",
              "<polygon fill=\"black\" stroke=\"black\" points=\"333.07,-1678.5 339.53,-1670.1 329.24,-1672.64 333.07,-1678.5\"/>\n",
              "</g>\n",
              "<!-- 139720550389840 -->\n",
              "<g id=\"node41\" class=\"node\">\n",
              "<title>139720550389840</title>\n",
              "<polygon fill=\"orange\" stroke=\"black\" points=\"119,-1664.5 0,-1664.5 0,-1634.5 119,-1634.5 119,-1664.5\"/>\n",
              "<text text-anchor=\"middle\" x=\"59.5\" y=\"-1652.5\" font-family=\"monospace\" font-size=\"10.00\">input</text>\n",
              "<text text-anchor=\"middle\" x=\"59.5\" y=\"-1641.5\" font-family=\"monospace\" font-size=\"10.00\"> (512, 1, 28, 28)</text>\n",
              "</g>\n",
              "<!-- 139720547899696&#45;&gt;139720550389840 -->\n",
              "<g id=\"edge39\" class=\"edge\">\n",
              "<title>139720547899696&#45;&gt;139720550389840</title>\n",
              "<path fill=\"none\" stroke=\"black\" d=\"M119,-1705.82C102.36,-1690.35 86.12,-1675.25 74.83,-1664.75\"/>\n",
              "</g>\n",
              "<!-- 139722111869360 -->\n",
              "<g id=\"node42\" class=\"node\">\n",
              "<title>139722111869360</title>\n",
              "<polygon fill=\"lightblue\" stroke=\"black\" points=\"277,-1664.5 176,-1664.5 176,-1634.5 277,-1634.5 277,-1664.5\"/>\n",
              "<text text-anchor=\"middle\" x=\"226.5\" y=\"-1652.5\" font-family=\"monospace\" font-size=\"10.00\">conv1.weight</text>\n",
              "<text text-anchor=\"middle\" x=\"226.5\" y=\"-1641.5\" font-family=\"monospace\" font-size=\"10.00\"> (32, 1, 3, 3)</text>\n",
              "</g>\n",
              "<!-- 139720547899696&#45;&gt;139722111869360 -->\n",
              "<g id=\"edge40\" class=\"edge\">\n",
              "<title>139720547899696&#45;&gt;139722111869360</title>\n",
              "<path fill=\"none\" stroke=\"black\" d=\"M208.37,-1705.82C213.44,-1690.35 218.39,-1675.25 221.83,-1664.75\"/>\n",
              "</g>\n",
              "<!-- 139720547904208 -->\n",
              "<g id=\"node43\" class=\"node\">\n",
              "<title>139720547904208</title>\n",
              "<polygon fill=\"lightgrey\" stroke=\"black\" points=\"229,-1538 128,-1538 128,-1519 229,-1519 229,-1538\"/>\n",
              "<text text-anchor=\"middle\" x=\"178.5\" y=\"-1526\" font-family=\"monospace\" font-size=\"10.00\">AccumulateGrad</text>\n",
              "</g>\n",
              "<!-- 139722111869360&#45;&gt;139720547904208 -->\n",
              "<g id=\"edge42\" class=\"edge\">\n",
              "<title>139722111869360&#45;&gt;139720547904208</title>\n",
              "<path fill=\"none\" stroke=\"black\" d=\"M220.81,-1634.38C212.07,-1612.72 195.35,-1571.28 185.76,-1547.49\"/>\n",
              "<polygon fill=\"black\" stroke=\"black\" points=\"189,-1546.18 182.01,-1538.21 182.51,-1548.79 189,-1546.18\"/>\n",
              "</g>\n",
              "<!-- 139720547904208&#45;&gt;139720547899696 -->\n",
              "<g id=\"edge41\" class=\"edge\">\n",
              "<title>139720547904208&#45;&gt;139720547899696</title>\n",
              "<path fill=\"none\" stroke=\"black\" d=\"M176.64,-1538.06C172.12,-1560.02 161.29,-1620.08 166.5,-1670 167.38,-1678.39 168.66,-1687.12 170.16,-1695.76\"/>\n",
              "<polygon fill=\"black\" stroke=\"black\" points=\"166.76,-1696.65 172.02,-1705.85 173.65,-1695.38 166.76,-1696.65\"/>\n",
              "</g>\n",
              "<!-- 139720547906272 -->\n",
              "<g id=\"node44\" class=\"node\">\n",
              "<title>139720547906272</title>\n",
              "<polygon fill=\"lightgrey\" stroke=\"black\" points=\"238,-1890 137,-1890 137,-1871 238,-1871 238,-1890\"/>\n",
              "<text text-anchor=\"middle\" x=\"187.5\" y=\"-1878\" font-family=\"monospace\" font-size=\"10.00\">AccumulateGrad</text>\n",
              "</g>\n",
              "<!-- 139720547906272&#45;&gt;139720547899696 -->\n",
              "<g id=\"edge43\" class=\"edge\">\n",
              "<title>139720547906272&#45;&gt;139720547899696</title>\n",
              "<path fill=\"none\" stroke=\"black\" d=\"M187.5,-1870.66C187.5,-1864.47 187.5,-1855.52 187.5,-1845.51\"/>\n",
              "<polygon fill=\"black\" stroke=\"black\" points=\"191,-1845.21 187.5,-1835.21 184,-1845.21 191,-1845.21\"/>\n",
              "</g>\n",
              "<!-- 139722111555504 -->\n",
              "<g id=\"node45\" class=\"node\">\n",
              "<title>139722111555504</title>\n",
              "<polygon fill=\"lightblue\" stroke=\"black\" points=\"226,-1956 149,-1956 149,-1926 226,-1926 226,-1956\"/>\n",
              "<text text-anchor=\"middle\" x=\"187.5\" y=\"-1944\" font-family=\"monospace\" font-size=\"10.00\">conv1.bias</text>\n",
              "<text text-anchor=\"middle\" x=\"187.5\" y=\"-1933\" font-family=\"monospace\" font-size=\"10.00\"> (32)</text>\n",
              "</g>\n",
              "<!-- 139722111555504&#45;&gt;139720547906272 -->\n",
              "<g id=\"edge44\" class=\"edge\">\n",
              "<title>139722111555504&#45;&gt;139720547906272</title>\n",
              "<path fill=\"none\" stroke=\"black\" d=\"M187.5,-1925.84C187.5,-1918.21 187.5,-1908.7 187.5,-1900.45\"/>\n",
              "<polygon fill=\"black\" stroke=\"black\" points=\"191,-1900.27 187.5,-1890.27 184,-1900.27 191,-1900.27\"/>\n",
              "</g>\n",
              "<!-- 139720547906032&#45;&gt;139720547900080 -->\n",
              "<g id=\"edge45\" class=\"edge\">\n",
              "<title>139720547906032&#45;&gt;139720547900080</title>\n",
              "<path fill=\"none\" stroke=\"black\" d=\"M490.19,-1274C492.21,-1298.2 498.63,-1369.46 508.5,-1428 509.93,-1436.49 511.61,-1445.35 513.4,-1454.13\"/>\n",
              "<polygon fill=\"black\" stroke=\"black\" points=\"509.99,-1454.92 515.45,-1463.99 516.84,-1453.49 509.99,-1454.92\"/>\n",
              "</g>\n",
              "<!-- 139720547895472 -->\n",
              "<g id=\"node47\" class=\"node\">\n",
              "<title>139720547895472</title>\n",
              "<polygon fill=\"lightgrey\" stroke=\"black\" points=\"581,-1659 480,-1659 480,-1640 581,-1640 581,-1659\"/>\n",
              "<text text-anchor=\"middle\" x=\"530.5\" y=\"-1647\" font-family=\"monospace\" font-size=\"10.00\">AccumulateGrad</text>\n",
              "</g>\n",
              "<!-- 139720547895472&#45;&gt;139720547900080 -->\n",
              "<g id=\"edge47\" class=\"edge\">\n",
              "<title>139720547895472&#45;&gt;139720547900080</title>\n",
              "<path fill=\"none\" stroke=\"black\" d=\"M530.5,-1639.94C530.5,-1631.63 530.5,-1618.13 530.5,-1603.37\"/>\n",
              "<polygon fill=\"black\" stroke=\"black\" points=\"534,-1603.01 530.5,-1593.01 527,-1603.01 534,-1603.01\"/>\n",
              "</g>\n",
              "<!-- 139722290691696 -->\n",
              "<g id=\"node48\" class=\"node\">\n",
              "<title>139722290691696</title>\n",
              "<polygon fill=\"lightblue\" stroke=\"black\" points=\"569,-1785.5 492,-1785.5 492,-1755.5 569,-1755.5 569,-1785.5\"/>\n",
              "<text text-anchor=\"middle\" x=\"530.5\" y=\"-1773.5\" font-family=\"monospace\" font-size=\"10.00\">conv2.bias</text>\n",
              "<text text-anchor=\"middle\" x=\"530.5\" y=\"-1762.5\" font-family=\"monospace\" font-size=\"10.00\"> (64)</text>\n",
              "</g>\n",
              "<!-- 139722290691696&#45;&gt;139720547895472 -->\n",
              "<g id=\"edge48\" class=\"edge\">\n",
              "<title>139722290691696&#45;&gt;139720547895472</title>\n",
              "<path fill=\"none\" stroke=\"black\" d=\"M530.5,-1755.38C530.5,-1734.01 530.5,-1693.39 530.5,-1669.46\"/>\n",
              "<polygon fill=\"black\" stroke=\"black\" points=\"534,-1669.21 530.5,-1659.21 527,-1669.21 534,-1669.21\"/>\n",
              "</g>\n",
              "<!-- 139720547893936&#45;&gt;139720547900032 -->\n",
              "<g id=\"edge49\" class=\"edge\">\n",
              "<title>139720547893936&#45;&gt;139720547900032</title>\n",
              "<path fill=\"none\" stroke=\"black\" d=\"M1016.86,-911.08C1009.86,-928.05 994.78,-967.3 989.5,-1002 986.19,-1023.75 988.07,-1047.34 991.94,-1068.87\"/>\n",
              "<polygon fill=\"black\" stroke=\"black\" points=\"988.56,-1069.79 993.92,-1078.93 995.43,-1068.45 988.56,-1069.79\"/>\n",
              "</g>\n",
              "<!-- 139720547909440 -->\n",
              "<g id=\"node50\" class=\"node\">\n",
              "<title>139720547909440</title>\n",
              "<polygon fill=\"lightgrey\" stroke=\"black\" points=\"1112,-1274 1011,-1274 1011,-1255 1112,-1255 1112,-1274\"/>\n",
              "<text text-anchor=\"middle\" x=\"1061.5\" y=\"-1262\" font-family=\"monospace\" font-size=\"10.00\">AccumulateGrad</text>\n",
              "</g>\n",
              "<!-- 139720547909440&#45;&gt;139720547900032 -->\n",
              "<g id=\"edge51\" class=\"edge\">\n",
              "<title>139720547909440&#45;&gt;139720547900032</title>\n",
              "<path fill=\"none\" stroke=\"black\" d=\"M1058.05,-1254.94C1054.63,-1246.47 1049.04,-1232.61 1042.95,-1217.52\"/>\n",
              "<polygon fill=\"black\" stroke=\"black\" points=\"1046.1,-1215.97 1039.12,-1208.01 1039.61,-1218.59 1046.1,-1215.97\"/>\n",
              "</g>\n",
              "<!-- 139722088545504 -->\n",
              "<g id=\"node51\" class=\"node\">\n",
              "<title>139722088545504</title>\n",
              "<polygon fill=\"lightblue\" stroke=\"black\" points=\"1100,-1389.5 1023,-1389.5 1023,-1359.5 1100,-1359.5 1100,-1389.5\"/>\n",
              "<text text-anchor=\"middle\" x=\"1061.5\" y=\"-1377.5\" font-family=\"monospace\" font-size=\"10.00\">conv3.bias</text>\n",
              "<text text-anchor=\"middle\" x=\"1061.5\" y=\"-1366.5\" font-family=\"monospace\" font-size=\"10.00\"> (128)</text>\n",
              "</g>\n",
              "<!-- 139722088545504&#45;&gt;139720547909440 -->\n",
              "<g id=\"edge52\" class=\"edge\">\n",
              "<title>139722088545504&#45;&gt;139720547909440</title>\n",
              "<path fill=\"none\" stroke=\"black\" d=\"M1061.5,-1359.38C1061.5,-1340.09 1061.5,-1305.46 1061.5,-1284.08\"/>\n",
              "<polygon fill=\"black\" stroke=\"black\" points=\"1065,-1284.01 1061.5,-1274.01 1058,-1284.01 1065,-1284.01\"/>\n",
              "</g>\n",
              "<!-- 139720547902576&#45;&gt;139720547900416 -->\n",
              "<g id=\"edge53\" class=\"edge\">\n",
              "<title>139720547902576&#45;&gt;139720547900416</title>\n",
              "<path fill=\"none\" stroke=\"black\" d=\"M1340.26,-647.02C1339.71,-671.25 1339,-742.6 1347.5,-801 1348.74,-809.52 1350.4,-818.36 1352.28,-827.11\"/>\n",
              "<polygon fill=\"black\" stroke=\"black\" points=\"1348.88,-827.93 1354.49,-836.92 1355.71,-826.4 1348.88,-827.93\"/>\n",
              "</g>\n",
              "<!-- 139720547894176 -->\n",
              "<g id=\"node53\" class=\"node\">\n",
              "<title>139720547894176</title>\n",
              "<polygon fill=\"lightgrey\" stroke=\"black\" points=\"1423,-1032 1322,-1032 1322,-1013 1423,-1013 1423,-1032\"/>\n",
              "<text text-anchor=\"middle\" x=\"1372.5\" y=\"-1020\" font-family=\"monospace\" font-size=\"10.00\">AccumulateGrad</text>\n",
              "</g>\n",
              "<!-- 139720547894176&#45;&gt;139720547900416 -->\n",
              "<g id=\"edge55\" class=\"edge\">\n",
              "<title>139720547894176&#45;&gt;139720547900416</title>\n",
              "<path fill=\"none\" stroke=\"black\" d=\"M1372.5,-1012.94C1372.5,-1004.63 1372.5,-991.13 1372.5,-976.37\"/>\n",
              "<polygon fill=\"black\" stroke=\"black\" points=\"1376,-976.01 1372.5,-966.01 1369,-976.01 1376,-976.01\"/>\n",
              "</g>\n",
              "<!-- 139722088545744 -->\n",
              "<g id=\"node54\" class=\"node\">\n",
              "<title>139722088545744</title>\n",
              "<polygon fill=\"lightblue\" stroke=\"black\" points=\"1411,-1158.5 1334,-1158.5 1334,-1128.5 1411,-1128.5 1411,-1158.5\"/>\n",
              "<text text-anchor=\"middle\" x=\"1372.5\" y=\"-1146.5\" font-family=\"monospace\" font-size=\"10.00\">conv4.bias</text>\n",
              "<text text-anchor=\"middle\" x=\"1372.5\" y=\"-1135.5\" font-family=\"monospace\" font-size=\"10.00\"> (256)</text>\n",
              "</g>\n",
              "<!-- 139722088545744&#45;&gt;139720547894176 -->\n",
              "<g id=\"edge56\" class=\"edge\">\n",
              "<title>139722088545744&#45;&gt;139720547894176</title>\n",
              "<path fill=\"none\" stroke=\"black\" d=\"M1372.5,-1128.38C1372.5,-1107.01 1372.5,-1066.39 1372.5,-1042.46\"/>\n",
              "<polygon fill=\"black\" stroke=\"black\" points=\"1376,-1042.21 1372.5,-1032.21 1369,-1042.21 1376,-1042.21\"/>\n",
              "</g>\n",
              "<!-- 139720547898352 -->\n",
              "<g id=\"node55\" class=\"node\">\n",
              "<title>139720547898352</title>\n",
              "<polygon fill=\"lightgrey\" stroke=\"black\" points=\"1307,-570 1230,-570 1230,-551 1307,-551 1307,-570\"/>\n",
              "<text text-anchor=\"middle\" x=\"1268.5\" y=\"-558\" font-family=\"monospace\" font-size=\"10.00\">TBackward0</text>\n",
              "</g>\n",
              "<!-- 139720547898352&#45;&gt;139720547901184 -->\n",
              "<g id=\"edge57\" class=\"edge\">\n",
              "<title>139720547898352&#45;&gt;139720547901184</title>\n",
              "<path fill=\"none\" stroke=\"black\" d=\"M1289.09,-550.95C1297.3,-547.54 1306.85,-543.58 1315.5,-540 1352.46,-524.72 1392.8,-508.07 1429.13,-493.09\"/>\n",
              "<polygon fill=\"black\" stroke=\"black\" points=\"1430.86,-496.17 1438.77,-489.12 1428.19,-489.7 1430.86,-496.17\"/>\n",
              "</g>\n",
              "<!-- 139720547896048 -->\n",
              "<g id=\"node56\" class=\"node\">\n",
              "<title>139720547896048</title>\n",
              "<polygon fill=\"lightgrey\" stroke=\"black\" points=\"1272,-647 1171,-647 1171,-628 1272,-628 1272,-647\"/>\n",
              "<text text-anchor=\"middle\" x=\"1221.5\" y=\"-635\" font-family=\"monospace\" font-size=\"10.00\">AccumulateGrad</text>\n",
              "</g>\n",
              "<!-- 139720547896048&#45;&gt;139720547898352 -->\n",
              "<g id=\"edge58\" class=\"edge\">\n",
              "<title>139720547896048&#45;&gt;139720547898352</title>\n",
              "<path fill=\"none\" stroke=\"black\" d=\"M1226.89,-627.9C1234.4,-615.92 1248.16,-593.95 1257.8,-578.58\"/>\n",
              "<polygon fill=\"black\" stroke=\"black\" points=\"1260.83,-580.34 1263.17,-570 1254.9,-576.62 1260.83,-580.34\"/>\n",
              "</g>\n",
              "<!-- 139722088545824 -->\n",
              "<g id=\"node57\" class=\"node\">\n",
              "<title>139722088545824</title>\n",
              "<polygon fill=\"lightblue\" stroke=\"black\" points=\"1276,-762.5 1193,-762.5 1193,-732.5 1276,-732.5 1276,-762.5\"/>\n",
              "<text text-anchor=\"middle\" x=\"1234.5\" y=\"-750.5\" font-family=\"monospace\" font-size=\"10.00\">fc1.weight</text>\n",
              "<text text-anchor=\"middle\" x=\"1234.5\" y=\"-739.5\" font-family=\"monospace\" font-size=\"10.00\"> (50, 4096)</text>\n",
              "</g>\n",
              "<!-- 139722088545824&#45;&gt;139720547896048 -->\n",
              "<g id=\"edge59\" class=\"edge\">\n",
              "<title>139722088545824&#45;&gt;139720547896048</title>\n",
              "<path fill=\"none\" stroke=\"black\" d=\"M1232.8,-732.38C1230.48,-713.09 1226.31,-678.46 1223.74,-657.08\"/>\n",
              "<polygon fill=\"black\" stroke=\"black\" points=\"1227.19,-656.52 1222.52,-647.01 1220.24,-657.35 1227.19,-656.52\"/>\n",
              "</g>\n",
              "<!-- 139720547897200 -->\n",
              "<g id=\"node58\" class=\"node\">\n",
              "<title>139720547897200</title>\n",
              "<polygon fill=\"lightgrey\" stroke=\"black\" points=\"1239,-339 1162,-339 1162,-320 1239,-320 1239,-339\"/>\n",
              "<text text-anchor=\"middle\" x=\"1200.5\" y=\"-327\" font-family=\"monospace\" font-size=\"10.00\">TBackward0</text>\n",
              "</g>\n",
              "<!-- 139720547897200&#45;&gt;139720547902672 -->\n",
              "<g id=\"edge60\" class=\"edge\">\n",
              "<title>139720547897200&#45;&gt;139720547902672</title>\n",
              "<path fill=\"none\" stroke=\"black\" d=\"M1200.5,-319.97C1200.5,-311.63 1200.5,-298.09 1200.5,-283.47\"/>\n",
              "<polygon fill=\"black\" stroke=\"black\" points=\"1204,-283.22 1200.5,-273.22 1197,-283.22 1204,-283.22\"/>\n",
              "</g>\n",
              "<!-- 139720547907040 -->\n",
              "<g id=\"node59\" class=\"node\">\n",
              "<title>139720547907040</title>\n",
              "<polygon fill=\"lightgrey\" stroke=\"black\" points=\"1248,-454.5 1147,-454.5 1147,-435.5 1248,-435.5 1248,-454.5\"/>\n",
              "<text text-anchor=\"middle\" x=\"1197.5\" y=\"-442.5\" font-family=\"monospace\" font-size=\"10.00\">AccumulateGrad</text>\n",
              "</g>\n",
              "<!-- 139720547907040&#45;&gt;139720547897200 -->\n",
              "<g id=\"edge61\" class=\"edge\">\n",
              "<title>139720547907040&#45;&gt;139720547897200</title>\n",
              "<path fill=\"none\" stroke=\"black\" d=\"M1197.73,-435.47C1198.21,-417.23 1199.35,-374.07 1200.01,-349.14\"/>\n",
              "<polygon fill=\"black\" stroke=\"black\" points=\"1203.51,-349.22 1200.27,-339.13 1196.51,-349.03 1203.51,-349.22\"/>\n",
              "</g>\n",
              "<!-- 139722088545984 -->\n",
              "<g id=\"node60\" class=\"node\">\n",
              "<title>139722088545984</title>\n",
              "<polygon fill=\"lightblue\" stroke=\"black\" points=\"1212,-575.5 1135,-575.5 1135,-545.5 1212,-545.5 1212,-575.5\"/>\n",
              "<text text-anchor=\"middle\" x=\"1173.5\" y=\"-563.5\" font-family=\"monospace\" font-size=\"10.00\">fc2.weight</text>\n",
              "<text text-anchor=\"middle\" x=\"1173.5\" y=\"-552.5\" font-family=\"monospace\" font-size=\"10.00\"> (10, 50)</text>\n",
              "</g>\n",
              "<!-- 139722088545984&#45;&gt;139720547907040 -->\n",
              "<g id=\"edge62\" class=\"edge\">\n",
              "<title>139722088545984&#45;&gt;139720547907040</title>\n",
              "<path fill=\"none\" stroke=\"black\" d=\"M1176.54,-545.13C1180.86,-524.71 1188.77,-487.31 1193.54,-464.74\"/>\n",
              "<polygon fill=\"black\" stroke=\"black\" points=\"1197.01,-465.24 1195.65,-454.73 1190.16,-463.79 1197.01,-465.24\"/>\n",
              "</g>\n",
              "</g>\n",
              "</svg>\n"
            ],
            "text/plain": [
              "<graphviz.graphs.Digraph at 0x7f1339a01720>"
            ]
          },
          "execution_count": 32,
          "metadata": {},
          "output_type": "execute_result"
        }
      ],
      "source": [
        "batch_data, batch_label = next(iter(train_loader))\n",
        "batch_data = batch_data.to(device)\n",
        "y = model(batch_data)\n",
        "\n",
        "make_dot(y, params=dict(list(model.named_parameters())), show_attrs=True, show_saved=True)\n",
        "#.render(\"mnist_cnn_torchviz\", format=\"png\")"
      ]
    },
    {
      "cell_type": "code",
      "execution_count": null,
      "metadata": {
        "id": "eHJMAhuLwutR"
      },
      "outputs": [],
      "source": []
    }
  ],
  "metadata": {
    "accelerator": "GPU",
    "colab": {
      "gpuType": "T4",
      "provenance": []
    },
    "gpuClass": "standard",
    "kernelspec": {
      "display_name": "Python 3",
      "name": "python3"
    },
    "language_info": {
      "name": "python"
    }
  },
  "nbformat": 4,
  "nbformat_minor": 0
}
